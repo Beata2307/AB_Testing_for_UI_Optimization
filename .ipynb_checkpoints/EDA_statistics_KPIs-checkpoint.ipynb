{
 "cells": [
  {
   "cell_type": "code",
   "execution_count": 3,
   "id": "55a8aa00-9474-4a7f-83e3-4b40e1d27aca",
   "metadata": {
    "tags": []
   },
   "outputs": [],
   "source": [
    "import pandas as pd\n",
    "from scipy import stats\n",
    "import seaborn as sns\n",
    "import matplotlib.pyplot as plt\n",
    "import statsmodels.api as sm\n",
    "\n",
    "from statsmodels.stats.proportion import proportions_ztest"
   ]
  },
  {
   "cell_type": "code",
   "execution_count": 4,
   "id": "5f8bcfeb-cf9b-4d7b-9062-ba8b8ff9c5d9",
   "metadata": {
    "tags": []
   },
   "outputs": [],
   "source": [
    "df = pd.read_csv('data/web_data_summary.csv')"
   ]
  },
  {
   "cell_type": "code",
   "execution_count": 6,
   "id": "9e7e788c-c15e-4bae-9f29-e9f1be0cf0e4",
   "metadata": {
    "tags": []
   },
   "outputs": [],
   "source": [
    "control = df[df['Variation']=='Control']\n",
    "test = df[df['Variation']=='Test']"
   ]
  },
  {
   "cell_type": "code",
   "execution_count": 7,
   "id": "880681a1-4147-4246-bf45-b4bdb6a31b04",
   "metadata": {
    "tags": []
   },
   "outputs": [
    {
     "data": {
      "text/html": [
       "<div>\n",
       "<style scoped>\n",
       "    .dataframe tbody tr th:only-of-type {\n",
       "        vertical-align: middle;\n",
       "    }\n",
       "\n",
       "    .dataframe tbody tr th {\n",
       "        vertical-align: top;\n",
       "    }\n",
       "\n",
       "    .dataframe thead th {\n",
       "        text-align: right;\n",
       "    }\n",
       "</style>\n",
       "<table border=\"1\" class=\"dataframe\">\n",
       "  <thead>\n",
       "    <tr style=\"text-align: right;\">\n",
       "      <th></th>\n",
       "      <th>client_id</th>\n",
       "      <th>clnt_tenure_yr</th>\n",
       "      <th>clnt_tenure_mnth</th>\n",
       "      <th>clnt_age</th>\n",
       "      <th>gendr</th>\n",
       "      <th>num_accts</th>\n",
       "      <th>bal</th>\n",
       "      <th>calls_6_mnth</th>\n",
       "      <th>logons_6_mnth</th>\n",
       "      <th>Variation</th>\n",
       "      <th>...</th>\n",
       "      <th>progress_count</th>\n",
       "      <th>no_of_visits</th>\n",
       "      <th>is_confirmed</th>\n",
       "      <th>no_of_starts</th>\n",
       "      <th>no_of_step_1</th>\n",
       "      <th>no_of_step_2</th>\n",
       "      <th>no_of_step_3</th>\n",
       "      <th>no_of_confirms</th>\n",
       "      <th>step_duration_seconds</th>\n",
       "      <th>step_duration_minutes</th>\n",
       "    </tr>\n",
       "  </thead>\n",
       "  <tbody>\n",
       "    <tr>\n",
       "      <th>0</th>\n",
       "      <td>836976</td>\n",
       "      <td>6.0</td>\n",
       "      <td>73.0</td>\n",
       "      <td>60.5</td>\n",
       "      <td>U</td>\n",
       "      <td>2.0</td>\n",
       "      <td>45105.30</td>\n",
       "      <td>6.0</td>\n",
       "      <td>9.0</td>\n",
       "      <td>Test</td>\n",
       "      <td>...</td>\n",
       "      <td>4</td>\n",
       "      <td>2</td>\n",
       "      <td>True</td>\n",
       "      <td>5.0</td>\n",
       "      <td>1.0</td>\n",
       "      <td>1.0</td>\n",
       "      <td>1.0</td>\n",
       "      <td>3</td>\n",
       "      <td>226.0</td>\n",
       "      <td>3.766667</td>\n",
       "    </tr>\n",
       "    <tr>\n",
       "      <th>1</th>\n",
       "      <td>2304905</td>\n",
       "      <td>7.0</td>\n",
       "      <td>94.0</td>\n",
       "      <td>58.0</td>\n",
       "      <td>U</td>\n",
       "      <td>2.0</td>\n",
       "      <td>110860.30</td>\n",
       "      <td>6.0</td>\n",
       "      <td>9.0</td>\n",
       "      <td>Control</td>\n",
       "      <td>...</td>\n",
       "      <td>4</td>\n",
       "      <td>1</td>\n",
       "      <td>True</td>\n",
       "      <td>2.0</td>\n",
       "      <td>1.0</td>\n",
       "      <td>1.0</td>\n",
       "      <td>1.0</td>\n",
       "      <td>1</td>\n",
       "      <td>59.0</td>\n",
       "      <td>0.983333</td>\n",
       "    </tr>\n",
       "    <tr>\n",
       "      <th>2</th>\n",
       "      <td>1439522</td>\n",
       "      <td>5.0</td>\n",
       "      <td>64.0</td>\n",
       "      <td>32.0</td>\n",
       "      <td>U</td>\n",
       "      <td>2.0</td>\n",
       "      <td>52467.79</td>\n",
       "      <td>6.0</td>\n",
       "      <td>9.0</td>\n",
       "      <td>Test</td>\n",
       "      <td>...</td>\n",
       "      <td>3</td>\n",
       "      <td>2</td>\n",
       "      <td>False</td>\n",
       "      <td>2.0</td>\n",
       "      <td>1.0</td>\n",
       "      <td>1.0</td>\n",
       "      <td>1.0</td>\n",
       "      <td>0</td>\n",
       "      <td>39.0</td>\n",
       "      <td>0.650000</td>\n",
       "    </tr>\n",
       "    <tr>\n",
       "      <th>3</th>\n",
       "      <td>1562045</td>\n",
       "      <td>16.0</td>\n",
       "      <td>198.0</td>\n",
       "      <td>49.0</td>\n",
       "      <td>M</td>\n",
       "      <td>2.0</td>\n",
       "      <td>67454.65</td>\n",
       "      <td>3.0</td>\n",
       "      <td>6.0</td>\n",
       "      <td>Test</td>\n",
       "      <td>...</td>\n",
       "      <td>0</td>\n",
       "      <td>1</td>\n",
       "      <td>False</td>\n",
       "      <td>1.0</td>\n",
       "      <td>0.0</td>\n",
       "      <td>0.0</td>\n",
       "      <td>0.0</td>\n",
       "      <td>0</td>\n",
       "      <td>0.0</td>\n",
       "      <td>0.000000</td>\n",
       "    </tr>\n",
       "    <tr>\n",
       "      <th>4</th>\n",
       "      <td>5126305</td>\n",
       "      <td>12.0</td>\n",
       "      <td>145.0</td>\n",
       "      <td>33.0</td>\n",
       "      <td>F</td>\n",
       "      <td>2.0</td>\n",
       "      <td>103671.75</td>\n",
       "      <td>0.0</td>\n",
       "      <td>3.0</td>\n",
       "      <td>Control</td>\n",
       "      <td>...</td>\n",
       "      <td>0</td>\n",
       "      <td>1</td>\n",
       "      <td>False</td>\n",
       "      <td>1.0</td>\n",
       "      <td>0.0</td>\n",
       "      <td>0.0</td>\n",
       "      <td>0.0</td>\n",
       "      <td>0</td>\n",
       "      <td>0.0</td>\n",
       "      <td>0.000000</td>\n",
       "    </tr>\n",
       "  </tbody>\n",
       "</table>\n",
       "<p>5 rows × 24 columns</p>\n",
       "</div>"
      ],
      "text/plain": [
       "   client_id  clnt_tenure_yr  clnt_tenure_mnth  clnt_age gendr  num_accts  \\\n",
       "0     836976             6.0              73.0      60.5     U        2.0   \n",
       "1    2304905             7.0              94.0      58.0     U        2.0   \n",
       "2    1439522             5.0              64.0      32.0     U        2.0   \n",
       "3    1562045            16.0             198.0      49.0     M        2.0   \n",
       "4    5126305            12.0             145.0      33.0     F        2.0   \n",
       "\n",
       "         bal  calls_6_mnth  logons_6_mnth Variation  ... progress_count  \\\n",
       "0   45105.30           6.0            9.0      Test  ...              4   \n",
       "1  110860.30           6.0            9.0   Control  ...              4   \n",
       "2   52467.79           6.0            9.0      Test  ...              3   \n",
       "3   67454.65           3.0            6.0      Test  ...              0   \n",
       "4  103671.75           0.0            3.0   Control  ...              0   \n",
       "\n",
       "   no_of_visits  is_confirmed  no_of_starts  no_of_step_1  no_of_step_2  \\\n",
       "0             2          True           5.0           1.0           1.0   \n",
       "1             1          True           2.0           1.0           1.0   \n",
       "2             2         False           2.0           1.0           1.0   \n",
       "3             1         False           1.0           0.0           0.0   \n",
       "4             1         False           1.0           0.0           0.0   \n",
       "\n",
       "   no_of_step_3  no_of_confirms  step_duration_seconds  step_duration_minutes  \n",
       "0           1.0               3                  226.0               3.766667  \n",
       "1           1.0               1                   59.0               0.983333  \n",
       "2           1.0               0                   39.0               0.650000  \n",
       "3           0.0               0                    0.0               0.000000  \n",
       "4           0.0               0                    0.0               0.000000  \n",
       "\n",
       "[5 rows x 24 columns]"
      ]
     },
     "execution_count": 7,
     "metadata": {},
     "output_type": "execute_result"
    }
   ],
   "source": [
    "df.head(5)\n",
    "# [['client_id', 'avg_step_duration', 'had_error', 'error_count', 'had_progress', 'progress_count', 'no_of_visits', 'is_confirmed', 'no_of_starts','no_of_step_1', 'no_of_step_2', 'no_of_step_3', 'no_of_confirms',\n",
    "# 'step_duration_minutes']]"
   ]
  },
  {
   "cell_type": "code",
   "execution_count": 8,
   "id": "51a2b1cb-3525-4924-87cb-3af331067774",
   "metadata": {
    "tags": []
   },
   "outputs": [
    {
     "data": {
      "text/plain": [
       "Index(['client_id', 'clnt_tenure_yr', 'clnt_tenure_mnth', 'clnt_age', 'gendr',\n",
       "       'num_accts', 'bal', 'calls_6_mnth', 'logons_6_mnth', 'Variation',\n",
       "       'avg_step_duration', 'had_error', 'error_count', 'had_progress',\n",
       "       'progress_count', 'no_of_visits', 'is_confirmed', 'no_of_starts',\n",
       "       'no_of_step_1', 'no_of_step_2', 'no_of_step_3', 'no_of_confirms',\n",
       "       'step_duration_seconds', 'step_duration_minutes'],\n",
       "      dtype='object')"
      ]
     },
     "execution_count": 8,
     "metadata": {},
     "output_type": "execute_result"
    }
   ],
   "source": [
    "df.columns"
   ]
  },
  {
   "cell_type": "code",
   "execution_count": 124,
   "id": "5060b111-1a53-45d2-9e9e-1f7fb96d2c8d",
   "metadata": {
    "tags": []
   },
   "outputs": [
    {
     "data": {
      "text/plain": [
       "Variation\n",
       "Test       26959\n",
       "Control    23526\n",
       "Name: count, dtype: int64"
      ]
     },
     "execution_count": 124,
     "metadata": {},
     "output_type": "execute_result"
    }
   ],
   "source": [
    "df['Variation'].value_counts()"
   ]
  },
  {
   "cell_type": "code",
   "execution_count": 291,
   "id": "81a70218-c3d1-4a87-bb0f-5577c89fdfc6",
   "metadata": {
    "tags": []
   },
   "outputs": [
    {
     "data": {
      "text/plain": [
       "Variation  is_confirmed\n",
       "Control    True            15428\n",
       "           False            8098\n",
       "Test       True            18682\n",
       "           False            8277\n",
       "Name: count, dtype: int64"
      ]
     },
     "execution_count": 291,
     "metadata": {},
     "output_type": "execute_result"
    }
   ],
   "source": [
    "df.groupby('Variation')['is_confirmed'].value_counts()"
   ]
  },
  {
   "cell_type": "markdown",
   "id": "caf255c9-5748-4a17-96fb-167204282891",
   "metadata": {
    "tags": []
   },
   "source": [
    "## Statistics on clients"
   ]
  },
  {
   "cell_type": "code",
   "execution_count": 153,
   "id": "08d7220e-ba5e-4a60-baad-814ad495cf82",
   "metadata": {
    "tags": []
   },
   "outputs": [
    {
     "data": {
      "image/png": "[encoded data removed]",
      "text/plain": [
       "<Figure size 640x480 with 1 Axes>"
      ]
     },
     "metadata": {},
     "output_type": "display_data"
    }
   ],
   "source": [
    "sns.histplot(x=df['clnt_age'], kde=True, color='orange')\n",
    "plt.xlabel('Client age')\n",
    "plt.ylabel('Number of clients')\n",
    "plt.title('Distribution of clients age')\n",
    "\n",
    "# Show the plot\n",
    "plt.show()"
   ]
  },
  {
   "cell_type": "code",
   "execution_count": 128,
   "id": "b4a28085-7706-405e-86f6-00ecf24e3113",
   "metadata": {
    "tags": []
   },
   "outputs": [
    {
     "data": {
      "text/html": [
       "<div>\n",
       "<style scoped>\n",
       "    .dataframe tbody tr th:only-of-type {\n",
       "        vertical-align: middle;\n",
       "    }\n",
       "\n",
       "    .dataframe tbody tr th {\n",
       "        vertical-align: top;\n",
       "    }\n",
       "\n",
       "    .dataframe thead th {\n",
       "        text-align: right;\n",
       "    }\n",
       "</style>\n",
       "<table border=\"1\" class=\"dataframe\">\n",
       "  <thead>\n",
       "    <tr style=\"text-align: right;\">\n",
       "      <th></th>\n",
       "      <th>clnt_age</th>\n",
       "    </tr>\n",
       "  </thead>\n",
       "  <tbody>\n",
       "    <tr>\n",
       "      <th>count</th>\n",
       "      <td>50485.000000</td>\n",
       "    </tr>\n",
       "    <tr>\n",
       "      <th>mean</th>\n",
       "      <td>47.320362</td>\n",
       "    </tr>\n",
       "    <tr>\n",
       "      <th>std</th>\n",
       "      <td>15.518599</td>\n",
       "    </tr>\n",
       "    <tr>\n",
       "      <th>min</th>\n",
       "      <td>17.000000</td>\n",
       "    </tr>\n",
       "    <tr>\n",
       "      <th>25%</th>\n",
       "      <td>33.500000</td>\n",
       "    </tr>\n",
       "    <tr>\n",
       "      <th>50%</th>\n",
       "      <td>48.000000</td>\n",
       "    </tr>\n",
       "    <tr>\n",
       "      <th>75%</th>\n",
       "      <td>59.500000</td>\n",
       "    </tr>\n",
       "    <tr>\n",
       "      <th>max</th>\n",
       "      <td>96.000000</td>\n",
       "    </tr>\n",
       "  </tbody>\n",
       "</table>\n",
       "</div>"
      ],
      "text/plain": [
       "           clnt_age\n",
       "count  50485.000000\n",
       "mean      47.320362\n",
       "std       15.518599\n",
       "min       17.000000\n",
       "25%       33.500000\n",
       "50%       48.000000\n",
       "75%       59.500000\n",
       "max       96.000000"
      ]
     },
     "execution_count": 128,
     "metadata": {},
     "output_type": "execute_result"
    }
   ],
   "source": [
    "pd.DataFrame(df['clnt_age'].describe())"
   ]
  },
  {
   "cell_type": "code",
   "execution_count": 174,
   "id": "9f145062-a5a7-4ff6-bf44-230f0b01a8bf",
   "metadata": {
    "tags": []
   },
   "outputs": [
    {
     "data": {
      "image/png": "[encoded data removed]",
      "text/plain": [
       "<Figure size 640x480 with 1 Axes>"
      ]
     },
     "metadata": {},
     "output_type": "display_data"
    }
   ],
   "source": [
    "sns.histplot(x=df['clnt_tenure_yr'], kde=True, color='blue', bins=50)\n",
    "\n",
    "plt.xlabel('Tenure years')\n",
    "plt.ylabel('Number of clients')\n",
    "plt.title('Clients tenure years')\n",
    "\n",
    "# Show the plot\n",
    "plt.show()"
   ]
  },
  {
   "cell_type": "code",
   "execution_count": 154,
   "id": "3d75008d-648d-4a37-a7fc-46a5853f6cca",
   "metadata": {
    "tags": []
   },
   "outputs": [
    {
     "data": {
      "text/html": [
       "<div>\n",
       "<style scoped>\n",
       "    .dataframe tbody tr th:only-of-type {\n",
       "        vertical-align: middle;\n",
       "    }\n",
       "\n",
       "    .dataframe tbody tr th {\n",
       "        vertical-align: top;\n",
       "    }\n",
       "\n",
       "    .dataframe thead th {\n",
       "        text-align: right;\n",
       "    }\n",
       "</style>\n",
       "<table border=\"1\" class=\"dataframe\">\n",
       "  <thead>\n",
       "    <tr style=\"text-align: right;\">\n",
       "      <th></th>\n",
       "      <th>clnt_tenure_yr</th>\n",
       "    </tr>\n",
       "  </thead>\n",
       "  <tbody>\n",
       "    <tr>\n",
       "      <th>count</th>\n",
       "      <td>50485.000000</td>\n",
       "    </tr>\n",
       "    <tr>\n",
       "      <th>mean</th>\n",
       "      <td>12.031891</td>\n",
       "    </tr>\n",
       "    <tr>\n",
       "      <th>std</th>\n",
       "      <td>6.860447</td>\n",
       "    </tr>\n",
       "    <tr>\n",
       "      <th>min</th>\n",
       "      <td>2.000000</td>\n",
       "    </tr>\n",
       "    <tr>\n",
       "      <th>25%</th>\n",
       "      <td>6.000000</td>\n",
       "    </tr>\n",
       "    <tr>\n",
       "      <th>50%</th>\n",
       "      <td>11.000000</td>\n",
       "    </tr>\n",
       "    <tr>\n",
       "      <th>75%</th>\n",
       "      <td>16.000000</td>\n",
       "    </tr>\n",
       "    <tr>\n",
       "      <th>max</th>\n",
       "      <td>55.000000</td>\n",
       "    </tr>\n",
       "  </tbody>\n",
       "</table>\n",
       "</div>"
      ],
      "text/plain": [
       "       clnt_tenure_yr\n",
       "count    50485.000000\n",
       "mean        12.031891\n",
       "std          6.860447\n",
       "min          2.000000\n",
       "25%          6.000000\n",
       "50%         11.000000\n",
       "75%         16.000000\n",
       "max         55.000000"
      ]
     },
     "execution_count": 154,
     "metadata": {},
     "output_type": "execute_result"
    }
   ],
   "source": [
    "pd.DataFrame(df['clnt_tenure_yr'].describe())"
   ]
  },
  {
   "cell_type": "code",
   "execution_count": 200,
   "id": "885f1559-1ae5-42a3-ac41-8f79e111fa13",
   "metadata": {
    "tags": []
   },
   "outputs": [
    {
     "data": {
      "text/plain": [
       "gendr\n",
       "U    34.0\n",
       "M    34.0\n",
       "F    32.0\n",
       "Name: proportion, dtype: float64"
      ]
     },
     "execution_count": 200,
     "metadata": {},
     "output_type": "execute_result"
    }
   ],
   "source": [
    "round(df['gendr'].value_counts(normalize=True), 2)*100"
   ]
  },
  {
   "cell_type": "code",
   "execution_count": 202,
   "id": "ffc39a9d-b76e-4b65-84c7-921102d9d348",
   "metadata": {
    "jp-MarkdownHeadingCollapsed": true,
    "tags": []
   },
   "outputs": [
    {
     "data": {
      "text/plain": [
       "([<matplotlib.patches.Wedge at 0x27aa9e13490>,\n",
       "  <matplotlib.patches.Wedge at 0x27aa9e14790>,\n",
       "  <matplotlib.patches.Wedge at 0x27aa9e15f10>],\n",
       " [Text(-0.9639373540021143, 0.5299290306818477, 'Male'),\n",
       "  Text(0.06906960848527893, -1.0978293989430645, 'Female'),\n",
       "  Text(0.9287607048079373, 0.5894094953465406, 'Unknown')],\n",
       " [Text(-0.5257840112738805, 0.28905219855373504, '34%'),\n",
       "  Text(0.03767433190106123, -0.598816035787126, '34%'),\n",
       "  Text(0.5065967480770566, 0.3214960883708403, '32%')])"
      ]
     },
     "execution_count": 202,
     "metadata": {},
     "output_type": "execute_result"
    },
    {
     "data": {
      "image/png": "[encoded data removed]",
      "text/plain": [
       "<Figure size 640x480 with 1 Axes>"
      ]
     },
     "metadata": {},
     "output_type": "display_data"
    }
   ],
   "source": [
    "### sns.countplot(x=df['gendr'], color='green',saturation=0.9, width=0.6)\n",
    "# # Add labels and title\n",
    "# plt.xlabel('Gender')\n",
    "# plt.ylabel('Number of clients')\n",
    "# plt.title('Clients gender')\n",
    "\n",
    "# # Show the plot\n",
    "# plt.show()\n",
    "\n",
    "labels = ['Male', 'Female', 'Unknown']\n",
    "sizes = [34, 34, 32] \n",
    "\n",
    "plt.pie(sizes, labels=labels, autopct='%1.f%%', startangle=90)"
   ]
  },
  {
   "cell_type": "code",
   "execution_count": 176,
   "id": "6501d8dc-3895-4ad1-abea-d4ab5a9fea0b",
   "metadata": {
    "tags": []
   },
   "outputs": [
    {
     "data": {
      "text/html": [
       "<div>\n",
       "<style scoped>\n",
       "    .dataframe tbody tr th:only-of-type {\n",
       "        vertical-align: middle;\n",
       "    }\n",
       "\n",
       "    .dataframe tbody tr th {\n",
       "        vertical-align: top;\n",
       "    }\n",
       "\n",
       "    .dataframe thead th {\n",
       "        text-align: right;\n",
       "    }\n",
       "</style>\n",
       "<table border=\"1\" class=\"dataframe\">\n",
       "  <thead>\n",
       "    <tr style=\"text-align: right;\">\n",
       "      <th></th>\n",
       "      <th>count</th>\n",
       "    </tr>\n",
       "    <tr>\n",
       "      <th>gendr</th>\n",
       "      <th></th>\n",
       "    </tr>\n",
       "  </thead>\n",
       "  <tbody>\n",
       "    <tr>\n",
       "      <th>U</th>\n",
       "      <td>17280</td>\n",
       "    </tr>\n",
       "    <tr>\n",
       "      <th>M</th>\n",
       "      <td>16947</td>\n",
       "    </tr>\n",
       "    <tr>\n",
       "      <th>F</th>\n",
       "      <td>16258</td>\n",
       "    </tr>\n",
       "  </tbody>\n",
       "</table>\n",
       "</div>"
      ],
      "text/plain": [
       "       count\n",
       "gendr       \n",
       "U      17280\n",
       "M      16947\n",
       "F      16258"
      ]
     },
     "execution_count": 176,
     "metadata": {},
     "output_type": "execute_result"
    }
   ],
   "source": [
    "pd.DataFrame(df['gendr'].value_counts())"
   ]
  },
  {
   "cell_type": "code",
   "execution_count": 192,
   "id": "ca553a8f-19bd-48c4-87c2-52037b955570",
   "metadata": {
    "tags": []
   },
   "outputs": [
    {
     "data": {
      "image/png": "[encoded data removed]",
      "text/plain": [
       "<Figure size 640x480 with 1 Axes>"
      ]
     },
     "metadata": {},
     "output_type": "display_data"
    }
   ],
   "source": [
    "sns.histplot(x=df['clnt_age'], hue=df['gendr'],palette='Set2', kde=True, multiple='stack') # : {\"layer\", \"dodge\", \"stack\", \"fill\"})\n",
    "\n",
    "plt.xlabel('Client age')\n",
    "plt.ylabel('Number of clients')\n",
    "plt.title('Distribution of clients age')\n",
    "\n",
    "# Show the plot\n",
    "plt.show()"
   ]
  },
  {
   "cell_type": "code",
   "execution_count": 303,
   "id": "ec96210c-20c0-4215-9e2f-08f771de6edc",
   "metadata": {
    "tags": []
   },
   "outputs": [
    {
     "data": {
      "image/png": "[encoded data removed]",
      "text/plain": [
       "<Figure size 640x480 with 1 Axes>"
      ]
     },
     "metadata": {},
     "output_type": "display_data"
    }
   ],
   "source": [
    "sns.histplot(x=df['clnt_age'], hue=df['Variation'], palette='Set1', kde=True, multiple='stack') # : {\"layer\", \"dodge\", \"stack\", \"fill\"})\n",
    "# Add labels and title\n",
    "plt.xlabel('Client age')\n",
    "plt.ylabel('Number of clients')\n",
    "plt.title('Distribution of clients age in Test and Control groups')\n",
    "\n",
    "# Show the plot\n",
    "plt.show()"
   ]
  },
  {
   "cell_type": "code",
   "execution_count": 305,
   "id": "3ab18928-0777-4a67-833c-571c7584c2a6",
   "metadata": {
    "tags": []
   },
   "outputs": [
    {
     "data": {
      "image/png": "[encoded data removed]",
      "text/plain": [
       "<Figure size 640x480 with 1 Axes>"
      ]
     },
     "metadata": {},
     "output_type": "display_data"
    }
   ],
   "source": [
    "sns.histplot(x=df['gendr'], hue=df['Variation'],palette='Set1', multiple='stack') # : {\"layer\", \"dodge\", \"stack\", \"fill\"})\n",
    "# Add labels and title\n",
    "plt.xlabel('Client age')\n",
    "plt.ylabel('Number of clients')\n",
    "plt.title('Distribution of clients age in Test and Control groups')\n",
    "\n",
    "# Show the plot\n",
    "plt.show()"
   ]
  },
  {
   "cell_type": "markdown",
   "id": "9e2180e9-818b-44c1-b060-c06aa98e68e6",
   "metadata": {
    "tags": []
   },
   "source": [
    "## Error rate"
   ]
  },
  {
   "cell_type": "code",
   "execution_count": 205,
   "id": "41d6768e-0aa7-4ed2-a33f-d2d3b12974e2",
   "metadata": {
    "tags": []
   },
   "outputs": [
    {
     "data": {
      "text/html": [
       "<div>\n",
       "<style scoped>\n",
       "    .dataframe tbody tr th:only-of-type {\n",
       "        vertical-align: middle;\n",
       "    }\n",
       "\n",
       "    .dataframe tbody tr th {\n",
       "        vertical-align: top;\n",
       "    }\n",
       "\n",
       "    .dataframe thead th {\n",
       "        text-align: right;\n",
       "    }\n",
       "</style>\n",
       "<table border=\"1\" class=\"dataframe\">\n",
       "  <thead>\n",
       "    <tr style=\"text-align: right;\">\n",
       "      <th></th>\n",
       "      <th>had_error</th>\n",
       "      <th>error_count</th>\n",
       "      <th>no_of_visits</th>\n",
       "    </tr>\n",
       "  </thead>\n",
       "  <tbody>\n",
       "    <tr>\n",
       "      <th>0</th>\n",
       "      <td>False</td>\n",
       "      <td>0</td>\n",
       "      <td>2</td>\n",
       "    </tr>\n",
       "    <tr>\n",
       "      <th>1</th>\n",
       "      <td>False</td>\n",
       "      <td>0</td>\n",
       "      <td>1</td>\n",
       "    </tr>\n",
       "    <tr>\n",
       "      <th>2</th>\n",
       "      <td>True</td>\n",
       "      <td>1</td>\n",
       "      <td>2</td>\n",
       "    </tr>\n",
       "    <tr>\n",
       "      <th>3</th>\n",
       "      <td>False</td>\n",
       "      <td>0</td>\n",
       "      <td>1</td>\n",
       "    </tr>\n",
       "    <tr>\n",
       "      <th>4</th>\n",
       "      <td>False</td>\n",
       "      <td>0</td>\n",
       "      <td>1</td>\n",
       "    </tr>\n",
       "    <tr>\n",
       "      <th>...</th>\n",
       "      <td>...</td>\n",
       "      <td>...</td>\n",
       "      <td>...</td>\n",
       "    </tr>\n",
       "    <tr>\n",
       "      <th>50480</th>\n",
       "      <td>False</td>\n",
       "      <td>0</td>\n",
       "      <td>2</td>\n",
       "    </tr>\n",
       "    <tr>\n",
       "      <th>50481</th>\n",
       "      <td>False</td>\n",
       "      <td>0</td>\n",
       "      <td>1</td>\n",
       "    </tr>\n",
       "    <tr>\n",
       "      <th>50482</th>\n",
       "      <td>False</td>\n",
       "      <td>0</td>\n",
       "      <td>3</td>\n",
       "    </tr>\n",
       "    <tr>\n",
       "      <th>50483</th>\n",
       "      <td>False</td>\n",
       "      <td>0</td>\n",
       "      <td>1</td>\n",
       "    </tr>\n",
       "    <tr>\n",
       "      <th>50484</th>\n",
       "      <td>True</td>\n",
       "      <td>1</td>\n",
       "      <td>1</td>\n",
       "    </tr>\n",
       "  </tbody>\n",
       "</table>\n",
       "<p>50485 rows × 3 columns</p>\n",
       "</div>"
      ],
      "text/plain": [
       "       had_error  error_count  no_of_visits\n",
       "0          False            0             2\n",
       "1          False            0             1\n",
       "2           True            1             2\n",
       "3          False            0             1\n",
       "4          False            0             1\n",
       "...          ...          ...           ...\n",
       "50480      False            0             2\n",
       "50481      False            0             1\n",
       "50482      False            0             3\n",
       "50483      False            0             1\n",
       "50484       True            1             1\n",
       "\n",
       "[50485 rows x 3 columns]"
      ]
     },
     "execution_count": 205,
     "metadata": {},
     "output_type": "execute_result"
    }
   ],
   "source": [
    "df[['had_error','error_count','no_of_visits' ]]"
   ]
  },
  {
   "cell_type": "code",
   "execution_count": 218,
   "id": "5f08d03f-acc6-41e2-9ff4-fcb43820e435",
   "metadata": {
    "tags": []
   },
   "outputs": [
    {
     "data": {
      "image/png": "[encoded data removed]",
      "text/plain": [
       "<Figure size 640x480 with 1 Axes>"
      ]
     },
     "metadata": {},
     "output_type": "display_data"
    }
   ],
   "source": [
    "sns.histplot(x=df['error_count'],color='orange', bins=40)\n",
    "# Add labels and title\n",
    "plt.xlabel('Number of errors')\n",
    "plt.ylabel('Error count')\n",
    "plt.xlim(-0.5,10)\n",
    "#plt.title('Distribution of clients age')\n",
    "\n",
    "# Show the plot\n",
    "plt.show()"
   ]
  },
  {
   "cell_type": "code",
   "execution_count": 9,
   "id": "c74cd2cd-0282-4b27-ae7c-099619b02059",
   "metadata": {
    "tags": []
   },
   "outputs": [
    {
     "data": {
      "image/png": "[encoded data removed]",
      "text/plain": [
       "<Figure size 640x480 with 1 Axes>"
      ]
     },
     "metadata": {},
     "output_type": "display_data"
    }
   ],
   "source": [
    "sns.barplot(y=df['error_count'], x=df['Variation'], estimator='mean', errorbar=None)\n",
    "# Add labels and title\n",
    "#plt.xlabel('Mean number of errors')\n",
    "plt.ylabel('Error count')\n",
    "\n",
    "plt.title('Mean number of errors in Test and Control groups')\n",
    "\n",
    "# Show the plot\n",
    "plt.show()"
   ]
  },
  {
   "cell_type": "code",
   "execution_count": 229,
   "id": "ae3fc594-77db-4858-823f-f5a053225466",
   "metadata": {
    "tags": []
   },
   "outputs": [
    {
     "data": {
      "text/html": [
       "<div>\n",
       "<style scoped>\n",
       "    .dataframe tbody tr th:only-of-type {\n",
       "        vertical-align: middle;\n",
       "    }\n",
       "\n",
       "    .dataframe tbody tr th {\n",
       "        vertical-align: top;\n",
       "    }\n",
       "\n",
       "    .dataframe thead th {\n",
       "        text-align: right;\n",
       "    }\n",
       "</style>\n",
       "<table border=\"1\" class=\"dataframe\">\n",
       "  <thead>\n",
       "    <tr style=\"text-align: right;\">\n",
       "      <th></th>\n",
       "      <th>error_count</th>\n",
       "    </tr>\n",
       "    <tr>\n",
       "      <th>Variation</th>\n",
       "      <th></th>\n",
       "    </tr>\n",
       "  </thead>\n",
       "  <tbody>\n",
       "    <tr>\n",
       "      <th>Control</th>\n",
       "      <td>13297</td>\n",
       "    </tr>\n",
       "    <tr>\n",
       "      <th>Test</th>\n",
       "      <td>19065</td>\n",
       "    </tr>\n",
       "  </tbody>\n",
       "</table>\n",
       "</div>"
      ],
      "text/plain": [
       "           error_count\n",
       "Variation             \n",
       "Control          13297\n",
       "Test             19065"
      ]
     },
     "execution_count": 229,
     "metadata": {},
     "output_type": "execute_result"
    }
   ],
   "source": [
    "pd.DataFrame(df.groupby('Variation')['error_count'].sum())"
   ]
  },
  {
   "cell_type": "code",
   "execution_count": 239,
   "id": "efc7da11-9648-4a74-9c7e-e88fa4df98a9",
   "metadata": {
    "tags": []
   },
   "outputs": [],
   "source": [
    "totl_nr_of_steps = pd.DataFrame(df.groupby('Variation')[['no_of_starts','no_of_step_1', 'no_of_step_2', 'no_of_step_3', 'no_of_confirms']].sum())"
   ]
  },
  {
   "cell_type": "code",
   "execution_count": 249,
   "id": "b5e01aaa-84ee-41da-bbb8-f66ef754409f",
   "metadata": {
    "tags": []
   },
   "outputs": [
    {
     "data": {
      "text/plain": [
       "(139996.0, 175658.0)"
      ]
     },
     "execution_count": 249,
     "metadata": {},
     "output_type": "execute_result"
    }
   ],
   "source": [
    "suma_control = 0 \n",
    "suma_test = 0 \n",
    "\n",
    "for col in totl_nr_of_steps.columns:\n",
    "    #print('Control', totl_nr_of_steps[col]['Control'])\n",
    "    #print('Test', totl_nr_of_steps[col]['Test'])\n",
    "    suma_control += totl_nr_of_steps[col]['Control']\n",
    "    suma_test += totl_nr_of_steps[col]['Test']\n",
    "\n",
    "suma_control, suma_test"
   ]
  },
  {
   "cell_type": "code",
   "execution_count": 247,
   "id": "909bb977-147c-4c92-89b0-1f317ebef57e",
   "metadata": {
    "tags": []
   },
   "outputs": [
    {
     "data": {
      "text/html": [
       "<div>\n",
       "<style scoped>\n",
       "    .dataframe tbody tr th:only-of-type {\n",
       "        vertical-align: middle;\n",
       "    }\n",
       "\n",
       "    .dataframe tbody tr th {\n",
       "        vertical-align: top;\n",
       "    }\n",
       "\n",
       "    .dataframe thead th {\n",
       "        text-align: right;\n",
       "    }\n",
       "</style>\n",
       "<table border=\"1\" class=\"dataframe\">\n",
       "  <thead>\n",
       "    <tr style=\"text-align: right;\">\n",
       "      <th></th>\n",
       "      <th>no_of_starts</th>\n",
       "      <th>no_of_step_1</th>\n",
       "      <th>no_of_step_2</th>\n",
       "      <th>no_of_step_3</th>\n",
       "      <th>no_of_confirms</th>\n",
       "    </tr>\n",
       "    <tr>\n",
       "      <th>Variation</th>\n",
       "      <th></th>\n",
       "      <th></th>\n",
       "      <th></th>\n",
       "      <th></th>\n",
       "      <th></th>\n",
       "    </tr>\n",
       "  </thead>\n",
       "  <tbody>\n",
       "    <tr>\n",
       "      <th>Control</th>\n",
       "      <td>45361.0</td>\n",
       "      <td>29435.0</td>\n",
       "      <td>25655.0</td>\n",
       "      <td>22377.0</td>\n",
       "      <td>17168</td>\n",
       "    </tr>\n",
       "    <tr>\n",
       "      <th>Test</th>\n",
       "      <td>55748.0</td>\n",
       "      <td>38569.0</td>\n",
       "      <td>30801.0</td>\n",
       "      <td>25657.0</td>\n",
       "      <td>24883</td>\n",
       "    </tr>\n",
       "  </tbody>\n",
       "</table>\n",
       "</div>"
      ],
      "text/plain": [
       "           no_of_starts  no_of_step_1  no_of_step_2  no_of_step_3  \\\n",
       "Variation                                                           \n",
       "Control         45361.0       29435.0       25655.0       22377.0   \n",
       "Test            55748.0       38569.0       30801.0       25657.0   \n",
       "\n",
       "           no_of_confirms  \n",
       "Variation                  \n",
       "Control             17168  \n",
       "Test                24883  "
      ]
     },
     "execution_count": 247,
     "metadata": {},
     "output_type": "execute_result"
    }
   ],
   "source": [
    "totl_nr_of_steps"
   ]
  },
  {
   "cell_type": "code",
   "execution_count": 252,
   "id": "5432d766-6b1c-4663-8f2a-ae21f4df8294",
   "metadata": {
    "tags": []
   },
   "outputs": [
    {
     "name": "stdout",
     "output_type": "stream",
     "text": [
      "Control group: 9.0\n",
      "Test group: 11.0\n"
     ]
    }
   ],
   "source": [
    "control_error_rate = 13297/suma_control\n",
    "test_error_rate = 19065/suma_test\n",
    "\n",
    "print('Control group:', round(control_error_rate, 2)*100)\n",
    "\n",
    "print('Test group:', round(test_error_rate, 2)*100)"
   ]
  },
  {
   "cell_type": "code",
   "execution_count": 286,
   "id": "f130303c-ef05-481e-b5cb-19d19ccef29c",
   "metadata": {
    "tags": []
   },
   "outputs": [
    {
     "data": {
      "text/plain": [
       "Variation\n",
       "Control    15428\n",
       "Test       18682\n",
       "Name: is_confirmed, dtype: int64"
      ]
     },
     "execution_count": 286,
     "metadata": {},
     "output_type": "execute_result"
    }
   ],
   "source": [
    "df.groupby('Variation')['is_confirmed'].sum()"
   ]
  },
  {
   "cell_type": "code",
   "execution_count": 287,
   "id": "60cb5511-803e-494e-b2eb-bd285a323df4",
   "metadata": {
    "tags": []
   },
   "outputs": [
    {
     "name": "stdout",
     "output_type": "stream",
     "text": [
      "Control group: 11.0\n",
      "Test group: 11.0\n"
     ]
    }
   ],
   "source": [
    "control_conf_rate = 15428/suma_control\n",
    "\n",
    "test_conf_rate = 18682/suma_test\n",
    "\n",
    "\n",
    "print('Control group:', round(control_conf_rate, 2)*100)\n",
    "\n",
    "print('Test group:', round(test_conf_rate, 2)*100)"
   ]
  },
  {
   "cell_type": "markdown",
   "id": "40e189c6-a090-43c4-ac33-d4dcfefc21c9",
   "metadata": {
    "tags": []
   },
   "source": [
    "## Completion Rate: The proportion of users who reach the final ‘confirm’ step."
   ]
  },
  {
   "cell_type": "code",
   "execution_count": 5,
   "id": "1803dd8d-211d-400f-9146-ef05fa6505fc",
   "metadata": {
    "tags": []
   },
   "outputs": [],
   "source": [
    "crosstab_corr = pd.crosstab(index=df['Variation'], columns=df['is_confirmed'])\n",
    "crosstab_corr['Total_nr_of_clients'] = df['Variation'].value_counts(ascending=True)\n",
    "crosstab_corr['% of_confirmed'] = round(crosstab_corr[True]/crosstab_corr['Total_nr_of_clients']*100, 2)\n",
    "crosstab_corr.drop(False, axis=1, inplace=True)\n",
    "crosstab_corr.columns = ['Nr_of_confirmed', 'Total_nr_of_clients', '%_of_confirmed']"
   ]
  },
  {
   "cell_type": "code",
   "execution_count": 103,
   "id": "abad93ef-37f6-410e-ad5c-c35901ffa225",
   "metadata": {
    "tags": []
   },
   "outputs": [
    {
     "data": {
      "text/plain": [
       "Variation\n",
       "Control    0.655785\n",
       "Test       0.692978\n",
       "Name: is_confirmed, dtype: float64"
      ]
     },
     "execution_count": 103,
     "metadata": {},
     "output_type": "execute_result"
    }
   ],
   "source": [
    "df.groupby('Variation')['is_confirmed'].mean()"
   ]
  },
  {
   "cell_type": "code",
   "execution_count": 91,
   "id": "3fd49d6b-c28e-4dc5-ae3b-50489237444d",
   "metadata": {
    "tags": []
   },
   "outputs": [
    {
     "data": {
      "text/html": [
       "<div>\n",
       "<style scoped>\n",
       "    .dataframe tbody tr th:only-of-type {\n",
       "        vertical-align: middle;\n",
       "    }\n",
       "\n",
       "    .dataframe tbody tr th {\n",
       "        vertical-align: top;\n",
       "    }\n",
       "\n",
       "    .dataframe thead th {\n",
       "        text-align: right;\n",
       "    }\n",
       "</style>\n",
       "<table border=\"1\" class=\"dataframe\">\n",
       "  <thead>\n",
       "    <tr style=\"text-align: right;\">\n",
       "      <th></th>\n",
       "      <th>Nr_of_confirmed</th>\n",
       "      <th>Total_nr_of_clients</th>\n",
       "      <th>%_of_confirmed</th>\n",
       "    </tr>\n",
       "    <tr>\n",
       "      <th>Variation</th>\n",
       "      <th></th>\n",
       "      <th></th>\n",
       "      <th></th>\n",
       "    </tr>\n",
       "  </thead>\n",
       "  <tbody>\n",
       "    <tr>\n",
       "      <th>Control</th>\n",
       "      <td>15428</td>\n",
       "      <td>23526</td>\n",
       "      <td>65.58</td>\n",
       "    </tr>\n",
       "    <tr>\n",
       "      <th>Test</th>\n",
       "      <td>18682</td>\n",
       "      <td>26959</td>\n",
       "      <td>69.30</td>\n",
       "    </tr>\n",
       "  </tbody>\n",
       "</table>\n",
       "</div>"
      ],
      "text/plain": [
       "           Nr_of_confirmed  Total_nr_of_clients  %_of_confirmed\n",
       "Variation                                                      \n",
       "Control              15428                23526           65.58\n",
       "Test                 18682                26959           69.30"
      ]
     },
     "execution_count": 91,
     "metadata": {},
     "output_type": "execute_result"
    }
   ],
   "source": [
    "crosstab_corr"
   ]
  },
  {
   "cell_type": "code",
   "execution_count": 112,
   "id": "7b681221-88b4-4dd8-bc36-85be8ea36131",
   "metadata": {
    "tags": []
   },
   "outputs": [
    {
     "data": {
      "text/plain": [
       "5.671543618559897"
      ]
     },
     "execution_count": 112,
     "metadata": {},
     "output_type": "execute_result"
    }
   ],
   "source": [
    "#completion_rate_increase = (test_completion_rate - control_completion_rate) / control_completion_rate * 100\n",
    "completion_rate_increase = ((df[df['Variation']=='Test']['is_confirmed'].mean() - df[df['Variation']=='Control']['is_confirmed'].mean())/ df[df['Variation']=='Control']['is_confirmed'].mean())*100\n",
    "\n",
    "completion_rate_increase"
   ]
  },
  {
   "cell_type": "code",
   "execution_count": 100,
   "id": "4aba9205-50ec-4c4e-96ed-b97275c5c670",
   "metadata": {
    "tags": []
   },
   "outputs": [
    {
     "data": {
      "image/png": "[encoded data removed]",
      "text/plain": [
       "<Figure size 640x480 with 1 Axes>"
      ]
     },
     "metadata": {},
     "output_type": "display_data"
    }
   ],
   "source": [
    "variation_labels = ['Control', 'Test']\n",
    "percentage_confirmed = [65.58, 69.30]\n",
    "\n",
    "# Create a bar plot\n",
    "plt.bar(variation_labels, percentage_confirmed, color=['blue', 'orange'])\n",
    "\n",
    "# Add labels and title\n",
    "plt.xlabel('')\n",
    "plt.ylabel('% of Confirmed')\n",
    "plt.title('Percentage of Confirmed for Control and Test Groups')\n",
    "\n",
    "# Show the plot\n",
    "plt.show()"
   ]
  },
  {
   "cell_type": "markdown",
   "id": "e1e00e8f-3060-4f04-b6b4-03f88225c00e",
   "metadata": {
    "tags": []
   },
   "source": [
    "**1. p-value test and initial statistics** \n",
    "\n",
    "Null hypothesis: 'Test' and 'Control' groups have the same proportion of users who reached the final 'confirm' step (no statistical difference between groups)"
   ]
  },
  {
   "cell_type": "code",
   "execution_count": 309,
   "id": "51690423-081a-41fc-9776-3356fe3bb3c8",
   "metadata": {
    "tags": []
   },
   "outputs": [
    {
     "data": {
      "text/plain": [
       "5.178761560302029e-19"
      ]
     },
     "execution_count": 309,
     "metadata": {},
     "output_type": "execute_result"
    }
   ],
   "source": [
    "stats.ttest_ind(control['is_confirmed'], test['is_confirmed']).pvalue"
   ]
  },
  {
   "cell_type": "code",
   "execution_count": 308,
   "id": "fd788f80-d8e4-4543-abe0-7f2ec1b22a88",
   "metadata": {
    "tags": []
   },
   "outputs": [],
   "source": [
    "#stats.ttest_rel(control['is_confirmed'], test['is_confirmed']).pvalue"
   ]
  },
  {
   "cell_type": "code",
   "execution_count": 262,
   "id": "65c281fe-9118-4fc1-b1a7-ce2837699067",
   "metadata": {
    "tags": []
   },
   "outputs": [
    {
     "data": {
      "text/plain": [
       "(-8.911917785082291, 5.015732277977769e-19)"
      ]
     },
     "execution_count": 262,
     "metadata": {},
     "output_type": "execute_result"
    }
   ],
   "source": [
    "sm.stats.ztest(control['is_confirmed'], test['is_confirmed'])\n",
    "\n",
    "#sm.stats.ztest(group1, group2)"
   ]
  },
  {
   "cell_type": "markdown",
   "id": "27272f21-4694-4262-a986-7aa77a743beb",
   "metadata": {
    "tags": []
   },
   "source": [
    "- p-value practically zero => we can reject null hypothesis - there is statistically significant difference between 'Test' and 'Control' groups\n",
    "\n",
    "- 66.6% of 'Control' group and 69.3% of 'Test' group has reached the confirmation step"
   ]
  },
  {
   "cell_type": "code",
   "execution_count": 8,
   "id": "10af3dad-8567-42b4-8766-ff27ca2db46f",
   "metadata": {
    "tags": []
   },
   "outputs": [
    {
     "data": {
      "text/html": [
       "<div>\n",
       "<style scoped>\n",
       "    .dataframe tbody tr th:only-of-type {\n",
       "        vertical-align: middle;\n",
       "    }\n",
       "\n",
       "    .dataframe tbody tr th {\n",
       "        vertical-align: top;\n",
       "    }\n",
       "\n",
       "    .dataframe thead th {\n",
       "        text-align: right;\n",
       "    }\n",
       "</style>\n",
       "<table border=\"1\" class=\"dataframe\">\n",
       "  <thead>\n",
       "    <tr style=\"text-align: right;\">\n",
       "      <th></th>\n",
       "      <th>Control</th>\n",
       "      <th>Test</th>\n",
       "      <th>Total</th>\n",
       "    </tr>\n",
       "  </thead>\n",
       "  <tbody>\n",
       "    <tr>\n",
       "      <th>count</th>\n",
       "      <td>23526.000000</td>\n",
       "      <td>26959.000000</td>\n",
       "      <td>50485.000000</td>\n",
       "    </tr>\n",
       "    <tr>\n",
       "      <th>mean</th>\n",
       "      <td>0.655785</td>\n",
       "      <td>0.692978</td>\n",
       "      <td>0.675646</td>\n",
       "    </tr>\n",
       "    <tr>\n",
       "      <th>std</th>\n",
       "      <td>0.475122</td>\n",
       "      <td>0.461267</td>\n",
       "      <td>0.468138</td>\n",
       "    </tr>\n",
       "    <tr>\n",
       "      <th>min</th>\n",
       "      <td>0.000000</td>\n",
       "      <td>0.000000</td>\n",
       "      <td>0.000000</td>\n",
       "    </tr>\n",
       "    <tr>\n",
       "      <th>25%</th>\n",
       "      <td>0.000000</td>\n",
       "      <td>0.000000</td>\n",
       "      <td>0.000000</td>\n",
       "    </tr>\n",
       "    <tr>\n",
       "      <th>50%</th>\n",
       "      <td>1.000000</td>\n",
       "      <td>1.000000</td>\n",
       "      <td>1.000000</td>\n",
       "    </tr>\n",
       "    <tr>\n",
       "      <th>75%</th>\n",
       "      <td>1.000000</td>\n",
       "      <td>1.000000</td>\n",
       "      <td>1.000000</td>\n",
       "    </tr>\n",
       "    <tr>\n",
       "      <th>max</th>\n",
       "      <td>1.000000</td>\n",
       "      <td>1.000000</td>\n",
       "      <td>1.000000</td>\n",
       "    </tr>\n",
       "  </tbody>\n",
       "</table>\n",
       "</div>"
      ],
      "text/plain": [
       "            Control          Test         Total\n",
       "count  23526.000000  26959.000000  50485.000000\n",
       "mean       0.655785      0.692978      0.675646\n",
       "std        0.475122      0.461267      0.468138\n",
       "min        0.000000      0.000000      0.000000\n",
       "25%        0.000000      0.000000      0.000000\n",
       "50%        1.000000      1.000000      1.000000\n",
       "75%        1.000000      1.000000      1.000000\n",
       "max        1.000000      1.000000      1.000000"
      ]
     },
     "execution_count": 8,
     "metadata": {},
     "output_type": "execute_result"
    }
   ],
   "source": [
    "df_stats = df['is_confirmed'].astype(int).describe()\n",
    "test_stats = test['is_confirmed'].astype(int).describe()\n",
    "control_stats = control['is_confirmed'].astype(int).describe()\n",
    "\n",
    "stast_summary = pd.DataFrame({'Control': control_stats, 'Test': test_stats, 'Total': df_stats })\n",
    "\n",
    "stast_summary"
   ]
  },
  {
   "cell_type": "markdown",
   "id": "ba3ef970-19c2-40f4-bf3d-03a429205bb9",
   "metadata": {},
   "source": [
    "**1.2. Nr of confirmation per age group**"
   ]
  },
  {
   "cell_type": "code",
   "execution_count": 9,
   "id": "134928fa-fe8a-46b1-9e99-e11bfab3cfe6",
   "metadata": {
    "tags": []
   },
   "outputs": [
    {
     "data": {
      "text/plain": [
       "0.0"
      ]
     },
     "execution_count": 9,
     "metadata": {},
     "output_type": "execute_result"
    }
   ],
   "source": [
    "stats.ttest_rel(test['is_confirmed'], test['clnt_age']).pvalue"
   ]
  },
  {
   "cell_type": "code",
   "execution_count": 10,
   "id": "5fdf5ed1-7d1a-4618-975d-8c0bb8d8868f",
   "metadata": {
    "tags": []
   },
   "outputs": [
    {
     "data": {
      "text/plain": [
       "0.0"
      ]
     },
     "execution_count": 10,
     "metadata": {},
     "output_type": "execute_result"
    }
   ],
   "source": [
    "stats.ttest_rel(control['is_confirmed'], control['clnt_age']).pvalue"
   ]
  },
  {
   "cell_type": "code",
   "execution_count": 11,
   "id": "a90bea0b-d3d1-4608-a400-ecc125ccaffc",
   "metadata": {
    "tags": []
   },
   "outputs": [],
   "source": [
    "#Categorization of ages by bins of ages :\n",
    "bin_edges = [0, 18, 25, 35, 45, 55, 65, float('inf')]\n",
    "bin_labels = ['<18yrs', '18-25yrs', '25-35yrs', '35-45yrs', '45-55yrs', '55-65yrs', '>65yrs']\n",
    "\n",
    "df['age_bin'] = pd.cut(df['clnt_age'], bins=bin_edges, labels=bin_labels, right=False)"
   ]
  },
  {
   "cell_type": "code",
   "execution_count": 12,
   "id": "a4502aa4-6d84-4370-8987-f38751714acb",
   "metadata": {
    "tags": []
   },
   "outputs": [],
   "source": [
    "#Number of confirms in each age group\n",
    "\n",
    "age_confirms = df.groupby(['Variation', 'age_bin'])['is_confirmed'].sum().unstack(level=0) #nr of confirms\n",
    "age_confirms.columns = ['Control_nr_conf', 'Test_nr_conf']"
   ]
  },
  {
   "cell_type": "code",
   "execution_count": 13,
   "id": "b8024d93-6101-4872-b89a-7245438c7500",
   "metadata": {
    "tags": []
   },
   "outputs": [],
   "source": [
    "#Total nr of people in each age group\n",
    "\n",
    "age_total_number = df.groupby(['Variation', 'age_bin'])['is_confirmed'].count().unstack(level=0)\n",
    "age_total_number.columns = ['Control_total_nr', 'Test_total_nr']"
   ]
  },
  {
   "cell_type": "code",
   "execution_count": 14,
   "id": "e3bc8eab-74ca-4b0c-9ebe-a0013f2998ad",
   "metadata": {
    "tags": []
   },
   "outputs": [],
   "source": [
    "# Join age_confirms and age_total_number into one table and calculate percentages\n",
    "\n",
    "confirmations_per_age = age_confirms.join(age_total_number, on=age_confirms.index)\n",
    "confirmations_per_age['%_conf_of_Control'] = round(confirmations_per_age['Control_nr_conf'] / confirmations_per_age['Control_total_nr'] *100, 2)\n",
    "confirmations_per_age['%_conf_of_Test'] = round(confirmations_per_age['Test_nr_conf'] / confirmations_per_age['Test_total_nr'] *100, 2)"
   ]
  },
  {
   "cell_type": "code",
   "execution_count": 15,
   "id": "14e9340b-65b0-4c5e-917e-f04906607bd1",
   "metadata": {
    "tags": []
   },
   "outputs": [
    {
     "data": {
      "text/html": [
       "<div>\n",
       "<style scoped>\n",
       "    .dataframe tbody tr th:only-of-type {\n",
       "        vertical-align: middle;\n",
       "    }\n",
       "\n",
       "    .dataframe tbody tr th {\n",
       "        vertical-align: top;\n",
       "    }\n",
       "\n",
       "    .dataframe thead th {\n",
       "        text-align: right;\n",
       "    }\n",
       "</style>\n",
       "<table border=\"1\" class=\"dataframe\">\n",
       "  <thead>\n",
       "    <tr style=\"text-align: right;\">\n",
       "      <th></th>\n",
       "      <th>Control_nr_conf</th>\n",
       "      <th>Test_nr_conf</th>\n",
       "      <th>Control_total_nr</th>\n",
       "      <th>Test_total_nr</th>\n",
       "      <th>%_conf_of_Control</th>\n",
       "      <th>%_conf_of_Test</th>\n",
       "    </tr>\n",
       "    <tr>\n",
       "      <th>age_bin</th>\n",
       "      <th></th>\n",
       "      <th></th>\n",
       "      <th></th>\n",
       "      <th></th>\n",
       "      <th></th>\n",
       "      <th></th>\n",
       "    </tr>\n",
       "  </thead>\n",
       "  <tbody>\n",
       "    <tr>\n",
       "      <th>&lt;18yrs</th>\n",
       "      <td>28</td>\n",
       "      <td>34</td>\n",
       "      <td>28</td>\n",
       "      <td>34</td>\n",
       "      <td>100.00</td>\n",
       "      <td>100.00</td>\n",
       "    </tr>\n",
       "    <tr>\n",
       "      <th>18-25yrs</th>\n",
       "      <td>1017</td>\n",
       "      <td>1332</td>\n",
       "      <td>1484</td>\n",
       "      <td>1797</td>\n",
       "      <td>68.53</td>\n",
       "      <td>74.12</td>\n",
       "    </tr>\n",
       "    <tr>\n",
       "      <th>25-35yrs</th>\n",
       "      <td>3252</td>\n",
       "      <td>4097</td>\n",
       "      <td>4846</td>\n",
       "      <td>5686</td>\n",
       "      <td>67.11</td>\n",
       "      <td>72.05</td>\n",
       "    </tr>\n",
       "    <tr>\n",
       "      <th>35-45yrs</th>\n",
       "      <td>2666</td>\n",
       "      <td>3217</td>\n",
       "      <td>3953</td>\n",
       "      <td>4565</td>\n",
       "      <td>67.44</td>\n",
       "      <td>70.47</td>\n",
       "    </tr>\n",
       "    <tr>\n",
       "      <th>45-55yrs</th>\n",
       "      <td>3081</td>\n",
       "      <td>3658</td>\n",
       "      <td>4586</td>\n",
       "      <td>5296</td>\n",
       "      <td>67.18</td>\n",
       "      <td>69.07</td>\n",
       "    </tr>\n",
       "    <tr>\n",
       "      <th>55-65yrs</th>\n",
       "      <td>3389</td>\n",
       "      <td>3930</td>\n",
       "      <td>5112</td>\n",
       "      <td>5691</td>\n",
       "      <td>66.29</td>\n",
       "      <td>69.06</td>\n",
       "    </tr>\n",
       "    <tr>\n",
       "      <th>&gt;65yrs</th>\n",
       "      <td>1995</td>\n",
       "      <td>2414</td>\n",
       "      <td>3517</td>\n",
       "      <td>3890</td>\n",
       "      <td>56.72</td>\n",
       "      <td>62.06</td>\n",
       "    </tr>\n",
       "  </tbody>\n",
       "</table>\n",
       "</div>"
      ],
      "text/plain": [
       "          Control_nr_conf  Test_nr_conf  Control_total_nr  Test_total_nr  \\\n",
       "age_bin                                                                    \n",
       "<18yrs                 28            34                28             34   \n",
       "18-25yrs             1017          1332              1484           1797   \n",
       "25-35yrs             3252          4097              4846           5686   \n",
       "35-45yrs             2666          3217              3953           4565   \n",
       "45-55yrs             3081          3658              4586           5296   \n",
       "55-65yrs             3389          3930              5112           5691   \n",
       ">65yrs               1995          2414              3517           3890   \n",
       "\n",
       "          %_conf_of_Control  %_conf_of_Test  \n",
       "age_bin                                      \n",
       "<18yrs               100.00          100.00  \n",
       "18-25yrs              68.53           74.12  \n",
       "25-35yrs              67.11           72.05  \n",
       "35-45yrs              67.44           70.47  \n",
       "45-55yrs              67.18           69.07  \n",
       "55-65yrs              66.29           69.06  \n",
       ">65yrs                56.72           62.06  "
      ]
     },
     "execution_count": 15,
     "metadata": {},
     "output_type": "execute_result"
    }
   ],
   "source": [
    "confirmations_per_age"
   ]
  },
  {
   "cell_type": "code",
   "execution_count": 16,
   "id": "188853dd-0baa-4c46-832d-0b4096dffcba",
   "metadata": {
    "tags": []
   },
   "outputs": [
    {
     "data": {
      "image/png": "[encoded data removed]",
      "text/plain": [
       "<Figure size 640x480 with 1 Axes>"
      ]
     },
     "metadata": {},
     "output_type": "display_data"
    }
   ],
   "source": [
    "# Create a bar plot using Matplotlib\n",
    "plt.bar(confirmations_per_age.index, confirmations_per_age['%_conf_of_Test'], label='Test', alpha=0.5, width=0.4)\n",
    "plt.bar(confirmations_per_age.index, confirmations_per_age['%_conf_of_Control'], label='Control', alpha=0.5, width=0.8)\n",
    "\n",
    "\n",
    "# Customize the plot\n",
    "plt.title('Comparison of Confirmations')\n",
    "plt.xlabel('Age Bin')\n",
    "plt.ylabel('Percentage of Confirmations')\n",
    "plt.legend()\n",
    "\n",
    "# Show the plot\n",
    "plt.show()"
   ]
  },
  {
   "cell_type": "code",
   "execution_count": 278,
   "id": "542d1ffd-3791-48bf-8eb1-86554dcfc386",
   "metadata": {
    "tags": []
   },
   "outputs": [
    {
     "data": {
      "text/plain": [
       "Text(0, 0.5, 'Average confirmation number')"
      ]
     },
     "execution_count": 278,
     "metadata": {},
     "output_type": "execute_result"
    },
    {
     "data": {
      "image/png": "[encoded data removed]",
      "text/plain": [
       "<Figure size 640x480 with 1 Axes>"
      ]
     },
     "metadata": {},
     "output_type": "display_data"
    }
   ],
   "source": [
    "# Create a barplot with comparison of mean\n",
    "\n",
    "sns.barplot(x=df['age_bin'], y=df['is_confirmed'].astype(int),  hue=df['Variation'], errorbar=None)\n",
    "\n",
    "# Customize the plot\n",
    "plt.title('Average confirmation value in each year group')\n",
    "plt.xlabel('Clients age')\n",
    "plt.ylabel('Average confirmation number')"
   ]
  },
  {
   "cell_type": "markdown",
   "id": "73125614-f8f3-4ea2-accd-863dd37839ce",
   "metadata": {
    "tags": []
   },
   "source": [
    "**1.3. Nr of confirmation based on old/new customers**"
   ]
  },
  {
   "cell_type": "code",
   "execution_count": 18,
   "id": "68cba39e-0bfe-43e9-a9dd-88d1c9773827",
   "metadata": {
    "tags": []
   },
   "outputs": [
    {
     "data": {
      "text/plain": [
       "0.0"
      ]
     },
     "execution_count": 18,
     "metadata": {},
     "output_type": "execute_result"
    }
   ],
   "source": [
    "stats.ttest_rel(control['is_confirmed'], control['clnt_tenure_yr']).pvalue"
   ]
  },
  {
   "cell_type": "code",
   "execution_count": 19,
   "id": "3280dd71-7be4-497a-8eff-28502201c7a0",
   "metadata": {
    "tags": []
   },
   "outputs": [
    {
     "data": {
      "text/plain": [
       "0.0"
      ]
     },
     "execution_count": 19,
     "metadata": {},
     "output_type": "execute_result"
    }
   ],
   "source": [
    "stats.ttest_rel(test['is_confirmed'], test['clnt_tenure_yr']).pvalue"
   ]
  },
  {
   "cell_type": "code",
   "execution_count": 20,
   "id": "e63f0969-17de-4a9d-bbdb-e43faa46e0c0",
   "metadata": {
    "tags": []
   },
   "outputs": [],
   "source": [
    "# #Categorization of ages by bins of ages :\n",
    "bin_edges_tenure = [0, 2, 5, 10, 20, 30, 40, float('inf')]\n",
    "bin_labels_tenure = ['2yrs', '3-5yrs', '6-10yrs', '11-20yrs', '21-30yrs', '31-40yrs', '>41yrs']\n",
    "\n",
    "df['tenure_yr_bin'] = pd.cut(df['clnt_tenure_yr'], bins=bin_edges_tenure, labels=bin_labels_tenure, right=True)"
   ]
  },
  {
   "cell_type": "code",
   "execution_count": 21,
   "id": "c4e69771-b184-4c05-a132-da29d0b0d615",
   "metadata": {
    "tags": []
   },
   "outputs": [
    {
     "data": {
      "text/plain": [
       "tenure_yr_bin\n",
       "11-20yrs    18818\n",
       "6-10yrs     15974\n",
       "3-5yrs       8668\n",
       "21-30yrs     6249\n",
       "31-40yrs      663\n",
       "2yrs           61\n",
       ">41yrs         52\n",
       "Name: count, dtype: int64"
      ]
     },
     "execution_count": 21,
     "metadata": {},
     "output_type": "execute_result"
    }
   ],
   "source": [
    "df['tenure_yr_bin'].value_counts()"
   ]
  },
  {
   "cell_type": "code",
   "execution_count": 22,
   "id": "783dc479-ff6a-489f-bf38-829ba6b10beb",
   "metadata": {
    "tags": []
   },
   "outputs": [],
   "source": [
    "# df[(df['clnt_age'] - df['clnt_tenure_yr'] < 0)]   #['clnt_tenure_yr'].value_counts()"
   ]
  },
  {
   "cell_type": "code",
   "execution_count": 280,
   "id": "a534fc91-a571-4893-96cf-9b7cebda8e72",
   "metadata": {
    "tags": []
   },
   "outputs": [
    {
     "data": {
      "text/plain": [
       "Text(0, 0.5, 'Average confirmation number')"
      ]
     },
     "execution_count": 280,
     "metadata": {},
     "output_type": "execute_result"
    },
    {
     "data": {
      "image/png": "[encoded data removed]",
      "text/plain": [
       "<Figure size 640x480 with 1 Axes>"
      ]
     },
     "metadata": {},
     "output_type": "display_data"
    }
   ],
   "source": [
    "# Create a barplot with comparison of mean\n",
    "\n",
    "sns.barplot(x=df['tenure_yr_bin'], y=df['is_confirmed'].astype(int),  hue=df['Variation'], errorbar=None, legend=None)\n",
    "\n",
    "# Customize the plot\n",
    "plt.title('Average confirmation depending on tenure years')\n",
    "plt.xlabel('Tenure years')\n",
    "plt.ylabel('Average confirmation number')"
   ]
  },
  {
   "cell_type": "code",
   "execution_count": 24,
   "id": "eb1ab071-f670-4f7e-a64e-5e19b05cc147",
   "metadata": {},
   "outputs": [
    {
     "data": {
      "text/plain": [
       "Text(0, 0.5, 'Sum of is_confirmed')"
      ]
     },
     "execution_count": 24,
     "metadata": {},
     "output_type": "execute_result"
    },
    {
     "data": {
      "image/png": "[encoded data removed]",
      "text/plain": [
       "<Figure size 640x480 with 1 Axes>"
      ]
     },
     "metadata": {},
     "output_type": "display_data"
    }
   ],
   "source": [
    "# Create a barplot with comparison of mean\n",
    "\n",
    "sns.barplot(x=df['gendr'], y=df['is_confirmed'].astype(int),  hue=df['Variation'], errorbar=None)\n",
    "\n",
    "# Customize the plot\n",
    "plt.title('Sum of is_confirmed by Gender')\n",
    "plt.xlabel('Gender')\n",
    "plt.ylabel('Sum of is_confirmed')"
   ]
  },
  {
   "cell_type": "code",
   "execution_count": null,
   "id": "349f55ce-7ad1-4c11-b0de-741f41665fb4",
   "metadata": {},
   "outputs": [],
   "source": []
  },
  {
   "cell_type": "markdown",
   "id": "e9ffffbb-864f-4208-92a0-409988ab5045",
   "metadata": {
    "tags": []
   },
   "source": [
    "## Average Time Users Spent on Each Step"
   ]
  },
  {
   "cell_type": "markdown",
   "id": "27ca88a5-79ec-448d-b88a-b93ad33cd879",
   "metadata": {},
   "source": [
    "**1. p-test**\n",
    "\n",
    "**Null hypothesis 1**: The average time users spent on each step is the same for 'Test' and 'Control' (no statistical difference between groups)"
   ]
  },
  {
   "cell_type": "code",
   "execution_count": 25,
   "id": "ee2fc677-84b8-4884-b739-f5836407eeef",
   "metadata": {
    "tags": []
   },
   "outputs": [
    {
     "data": {
      "text/plain": [
       "0.027653778236822572"
      ]
     },
     "execution_count": 25,
     "metadata": {},
     "output_type": "execute_result"
    }
   ],
   "source": [
    "stats.ttest_ind(df[df['Variation']=='Test']['step_duration_minutes'], df[df['Variation']=='Control']['step_duration_minutes']).pvalue"
   ]
  },
  {
   "cell_type": "code",
   "execution_count": 26,
   "id": "776ecc7c-1fbc-40da-a6b9-060578fbc592",
   "metadata": {
    "tags": []
   },
   "outputs": [
    {
     "data": {
      "text/plain": [
       "0.027653778236823738"
      ]
     },
     "execution_count": 26,
     "metadata": {},
     "output_type": "execute_result"
    }
   ],
   "source": [
    "stats.ttest_ind(df[df['Variation']=='Test']['avg_step_duration'].dt.total_seconds(), df[df['Variation']=='Control']['avg_step_duration'].dt.total_seconds()).pvalue"
   ]
  },
  {
   "cell_type": "markdown",
   "id": "db6b834f-5e7d-4be5-bffd-633eaba5296b",
   "metadata": {},
   "source": [
    "p-value is smaller than 0.05 between test and control groups suggesting that these groups might be different"
   ]
  },
  {
   "cell_type": "markdown",
   "id": "1b6fba33-0a59-483a-8c02-b839fa20ed80",
   "metadata": {},
   "source": [
    "**Null hypothesis 2**: The average time users spent on each step in 'Test' and 'Control' is the same for all age groups."
   ]
  },
  {
   "cell_type": "code",
   "execution_count": 27,
   "id": "83b6954d-2b8b-4c33-8b74-323d4b7e6f4d",
   "metadata": {
    "tags": []
   },
   "outputs": [
    {
     "data": {
      "text/plain": [
       "TtestResult(statistic=-489.8760232818256, pvalue=0.0, df=26958)"
      ]
     },
     "execution_count": 27,
     "metadata": {},
     "output_type": "execute_result"
    }
   ],
   "source": [
    "stats.ttest_rel(df[df['Variation']=='Test']['step_duration_minutes'], df[df['Variation']=='Test']['clnt_age'])"
   ]
  },
  {
   "cell_type": "code",
   "execution_count": 28,
   "id": "97954f85-1bbb-4789-bceb-26211a3b740a",
   "metadata": {
    "tags": []
   },
   "outputs": [
    {
     "data": {
      "text/plain": [
       "TtestResult(statistic=-461.73023417738835, pvalue=0.0, df=23525)"
      ]
     },
     "execution_count": 28,
     "metadata": {},
     "output_type": "execute_result"
    }
   ],
   "source": [
    "stats.ttest_rel(df[df['Variation']=='Control']['step_duration_minutes'], df[df['Variation']=='Control']['clnt_age'])"
   ]
  },
  {
   "cell_type": "markdown",
   "id": "ee9976be-af27-4783-80c3-05f35ffc34c8",
   "metadata": {},
   "source": [
    "**p-value** sugest that there is correlation between average step time and age of clients\n",
    "\n",
    "- p-value is smaller than 0.05 between test and control groups suggesting that these groups might be different"
   ]
  },
  {
   "cell_type": "code",
   "execution_count": 29,
   "id": "31cc4195-6888-433f-86fc-f73104b95f8e",
   "metadata": {
    "tags": []
   },
   "outputs": [
    {
     "data": {
      "text/html": [
       "<div>\n",
       "<style scoped>\n",
       "    .dataframe tbody tr th:only-of-type {\n",
       "        vertical-align: middle;\n",
       "    }\n",
       "\n",
       "    .dataframe tbody tr th {\n",
       "        vertical-align: top;\n",
       "    }\n",
       "\n",
       "    .dataframe thead th {\n",
       "        text-align: right;\n",
       "    }\n",
       "</style>\n",
       "<table border=\"1\" class=\"dataframe\">\n",
       "  <thead>\n",
       "    <tr style=\"text-align: right;\">\n",
       "      <th></th>\n",
       "      <th>Control</th>\n",
       "      <th>Test</th>\n",
       "      <th>Total</th>\n",
       "    </tr>\n",
       "  </thead>\n",
       "  <tbody>\n",
       "    <tr>\n",
       "      <th>count</th>\n",
       "      <td>23526.000000</td>\n",
       "      <td>26959.000000</td>\n",
       "      <td>50485.000000</td>\n",
       "    </tr>\n",
       "    <tr>\n",
       "      <th>mean</th>\n",
       "      <td>1.185871</td>\n",
       "      <td>1.216098</td>\n",
       "      <td>1.202012</td>\n",
       "    </tr>\n",
       "    <tr>\n",
       "      <th>std</th>\n",
       "      <td>1.515970</td>\n",
       "      <td>1.557726</td>\n",
       "      <td>1.538467</td>\n",
       "    </tr>\n",
       "    <tr>\n",
       "      <th>min</th>\n",
       "      <td>0.000000</td>\n",
       "      <td>0.000000</td>\n",
       "      <td>0.000000</td>\n",
       "    </tr>\n",
       "    <tr>\n",
       "      <th>25%</th>\n",
       "      <td>0.483333</td>\n",
       "      <td>0.504167</td>\n",
       "      <td>0.494444</td>\n",
       "    </tr>\n",
       "    <tr>\n",
       "      <th>50%</th>\n",
       "      <td>0.847049</td>\n",
       "      <td>0.825000</td>\n",
       "      <td>0.833333</td>\n",
       "    </tr>\n",
       "    <tr>\n",
       "      <th>75%</th>\n",
       "      <td>1.437500</td>\n",
       "      <td>1.404167</td>\n",
       "      <td>1.419444</td>\n",
       "    </tr>\n",
       "    <tr>\n",
       "      <th>max</th>\n",
       "      <td>63.597222</td>\n",
       "      <td>65.883333</td>\n",
       "      <td>65.883333</td>\n",
       "    </tr>\n",
       "  </tbody>\n",
       "</table>\n",
       "</div>"
      ],
      "text/plain": [
       "            Control          Test         Total\n",
       "count  23526.000000  26959.000000  50485.000000\n",
       "mean       1.185871      1.216098      1.202012\n",
       "std        1.515970      1.557726      1.538467\n",
       "min        0.000000      0.000000      0.000000\n",
       "25%        0.483333      0.504167      0.494444\n",
       "50%        0.847049      0.825000      0.833333\n",
       "75%        1.437500      1.404167      1.419444\n",
       "max       63.597222     65.883333     65.883333"
      ]
     },
     "execution_count": 29,
     "metadata": {},
     "output_type": "execute_result"
    }
   ],
   "source": [
    "time_stats = df['step_duration_minutes'].describe()\n",
    "test_time_stats = test['step_duration_minutes'].describe()\n",
    "control_time_stats = control['step_duration_minutes'].describe()\n",
    "\n",
    "time_stast_summary = pd.DataFrame({'Control': control_time_stats, 'Test': test_time_stats, 'Total': time_stats })\n",
    "\n",
    "time_stast_summary"
   ]
  },
  {
   "cell_type": "code",
   "execution_count": 30,
   "id": "8aee71af-51ae-4a77-bcc8-4751829cec62",
   "metadata": {
    "tags": []
   },
   "outputs": [
    {
     "data": {
      "text/html": [
       "<div>\n",
       "<style scoped>\n",
       "    .dataframe tbody tr th:only-of-type {\n",
       "        vertical-align: middle;\n",
       "    }\n",
       "\n",
       "    .dataframe tbody tr th {\n",
       "        vertical-align: top;\n",
       "    }\n",
       "\n",
       "    .dataframe thead th {\n",
       "        text-align: right;\n",
       "    }\n",
       "</style>\n",
       "<table border=\"1\" class=\"dataframe\">\n",
       "  <thead>\n",
       "    <tr style=\"text-align: right;\">\n",
       "      <th></th>\n",
       "      <th>step_duration_minutes</th>\n",
       "    </tr>\n",
       "  </thead>\n",
       "  <tbody>\n",
       "    <tr>\n",
       "      <th>0.10</th>\n",
       "      <td>0.200000</td>\n",
       "    </tr>\n",
       "    <tr>\n",
       "      <th>0.20</th>\n",
       "      <td>0.425000</td>\n",
       "    </tr>\n",
       "    <tr>\n",
       "      <th>0.30</th>\n",
       "      <td>0.561111</td>\n",
       "    </tr>\n",
       "    <tr>\n",
       "      <th>0.40</th>\n",
       "      <td>0.690000</td>\n",
       "    </tr>\n",
       "    <tr>\n",
       "      <th>0.50</th>\n",
       "      <td>0.833333</td>\n",
       "    </tr>\n",
       "    <tr>\n",
       "      <th>0.60</th>\n",
       "      <td>1.012500</td>\n",
       "    </tr>\n",
       "    <tr>\n",
       "      <th>0.70</th>\n",
       "      <td>1.254167</td>\n",
       "    </tr>\n",
       "    <tr>\n",
       "      <th>0.80</th>\n",
       "      <td>1.630000</td>\n",
       "    </tr>\n",
       "    <tr>\n",
       "      <th>0.90</th>\n",
       "      <td>2.420833</td>\n",
       "    </tr>\n",
       "    <tr>\n",
       "      <th>0.95</th>\n",
       "      <td>3.420833</td>\n",
       "    </tr>\n",
       "    <tr>\n",
       "      <th>0.99</th>\n",
       "      <td>6.850762</td>\n",
       "    </tr>\n",
       "    <tr>\n",
       "      <th>1.00</th>\n",
       "      <td>65.883333</td>\n",
       "    </tr>\n",
       "  </tbody>\n",
       "</table>\n",
       "</div>"
      ],
      "text/plain": [
       "      step_duration_minutes\n",
       "0.10               0.200000\n",
       "0.20               0.425000\n",
       "0.30               0.561111\n",
       "0.40               0.690000\n",
       "0.50               0.833333\n",
       "0.60               1.012500\n",
       "0.70               1.254167\n",
       "0.80               1.630000\n",
       "0.90               2.420833\n",
       "0.95               3.420833\n",
       "0.99               6.850762\n",
       "1.00              65.883333"
      ]
     },
     "execution_count": 30,
     "metadata": {},
     "output_type": "execute_result"
    }
   ],
   "source": [
    "pd.DataFrame(df['step_duration_minutes'].quantile([0.1, 0.2, 0.3, 0.4, 0.5, 0.6, 0.7, 0.8, 0.9, 0.95, 0.99, 1.]))"
   ]
  },
  {
   "cell_type": "markdown",
   "id": "61706758-624a-4f5c-85ab-5d7f38da1651",
   "metadata": {},
   "source": [
    "**Additional data cleaning for analysing step duration**\n",
    "\n",
    "  - remove rows with time equal to zero: 3937 records, from which 3916 had no progress\n",
    "  - remove outliers: only 28 client had time longer than 20 min, including 17 clients without any progress\n"
   ]
  },
  {
   "cell_type": "code",
   "execution_count": 31,
   "id": "250fdff4-9197-44cb-a889-344ac714ba72",
   "metadata": {
    "tags": []
   },
   "outputs": [
    {
     "data": {
      "text/html": [
       "<div>\n",
       "<style scoped>\n",
       "    .dataframe tbody tr th:only-of-type {\n",
       "        vertical-align: middle;\n",
       "    }\n",
       "\n",
       "    .dataframe tbody tr th {\n",
       "        vertical-align: top;\n",
       "    }\n",
       "\n",
       "    .dataframe thead th {\n",
       "        text-align: right;\n",
       "    }\n",
       "</style>\n",
       "<table border=\"1\" class=\"dataframe\">\n",
       "  <thead>\n",
       "    <tr style=\"text-align: right;\">\n",
       "      <th></th>\n",
       "      <th>Control</th>\n",
       "      <th>Test</th>\n",
       "      <th>Total</th>\n",
       "    </tr>\n",
       "  </thead>\n",
       "  <tbody>\n",
       "    <tr>\n",
       "      <th>count</th>\n",
       "      <td>21096.000000</td>\n",
       "      <td>25424.000000</td>\n",
       "      <td>46520.000000</td>\n",
       "    </tr>\n",
       "    <tr>\n",
       "      <th>mean</th>\n",
       "      <td>1.300494</td>\n",
       "      <td>1.273674</td>\n",
       "      <td>1.285837</td>\n",
       "    </tr>\n",
       "    <tr>\n",
       "      <th>std</th>\n",
       "      <td>1.290786</td>\n",
       "      <td>1.396329</td>\n",
       "      <td>1.349542</td>\n",
       "    </tr>\n",
       "    <tr>\n",
       "      <th>min</th>\n",
       "      <td>0.016667</td>\n",
       "      <td>0.016667</td>\n",
       "      <td>0.016667</td>\n",
       "    </tr>\n",
       "    <tr>\n",
       "      <th>25%</th>\n",
       "      <td>0.595833</td>\n",
       "      <td>0.554167</td>\n",
       "      <td>0.570833</td>\n",
       "    </tr>\n",
       "    <tr>\n",
       "      <th>50%</th>\n",
       "      <td>0.937500</td>\n",
       "      <td>0.866667</td>\n",
       "      <td>0.900000</td>\n",
       "    </tr>\n",
       "    <tr>\n",
       "      <th>75%</th>\n",
       "      <td>1.529167</td>\n",
       "      <td>1.458333</td>\n",
       "      <td>1.491667</td>\n",
       "    </tr>\n",
       "    <tr>\n",
       "      <th>max</th>\n",
       "      <td>19.025000</td>\n",
       "      <td>19.916667</td>\n",
       "      <td>19.916667</td>\n",
       "    </tr>\n",
       "  </tbody>\n",
       "</table>\n",
       "</div>"
      ],
      "text/plain": [
       "            Control          Test         Total\n",
       "count  21096.000000  25424.000000  46520.000000\n",
       "mean       1.300494      1.273674      1.285837\n",
       "std        1.290786      1.396329      1.349542\n",
       "min        0.016667      0.016667      0.016667\n",
       "25%        0.595833      0.554167      0.570833\n",
       "50%        0.937500      0.866667      0.900000\n",
       "75%        1.529167      1.458333      1.491667\n",
       "max       19.025000     19.916667     19.916667"
      ]
     },
     "execution_count": 31,
     "metadata": {},
     "output_type": "execute_result"
    }
   ],
   "source": [
    "#Statisctis after removing time=0 and outliers over 20 min\n",
    "time_filtered_stats = df[(df['step_duration_minutes'] > 0) & (df['step_duration_minutes'] < 20)]['step_duration_minutes'].describe()\n",
    "test_time_filtered_stats = df[(df['step_duration_minutes'] > 0) & (df['step_duration_minutes'] < 20) & (df['Variation'] == 'Test')]['step_duration_minutes'].describe()\n",
    "control_time_filtered_stats = df[(df['step_duration_minutes'] > 0) & (df['step_duration_minutes'] < 20) & (df['Variation'] == 'Control')]['step_duration_minutes'].describe()\n",
    "\n",
    "time_filtered_stast_summary = pd.DataFrame({'Control': control_time_filtered_stats, 'Test': test_time_filtered_stats, 'Total': time_filtered_stats })\n",
    "\n",
    "time_filtered_stast_summary"
   ]
  },
  {
   "cell_type": "code",
   "execution_count": 32,
   "id": "52edac24-23f0-422b-b5e3-5177effce804",
   "metadata": {
    "tags": []
   },
   "outputs": [],
   "source": [
    "df_filter_time = df[(df['step_duration_minutes'] > 0) & (df['step_duration_minutes'] < 20)]"
   ]
  },
  {
   "cell_type": "code",
   "execution_count": 266,
   "id": "03a3ee17-e6c0-476a-ba56-f67bb36f59bc",
   "metadata": {
    "tags": []
   },
   "outputs": [
    {
     "data": {
      "text/plain": [
       "Text(0, 0.5, '')"
      ]
     },
     "execution_count": 266,
     "metadata": {},
     "output_type": "execute_result"
    },
    {
     "data": {
      "image/png": "[encoded data removed]",
      "text/plain": [
       "<Figure size 640x480 with 1 Axes>"
      ]
     },
     "metadata": {},
     "output_type": "display_data"
    }
   ],
   "source": [
    "sns.histplot(x=df_filter_time['step_duration_minutes'], hue=df_filter_time['Variation'],alpha=0.6, multiple='stack')  \n",
    "plt.xlim(-0.5, 7.5)\n",
    "plt.xlabel('Step duration [min]')\n",
    "plt.ylabel('')"
   ]
  },
  {
   "cell_type": "code",
   "execution_count": 275,
   "id": "354ba112-b065-47bd-a8b6-53d9dcf19697",
   "metadata": {
    "tags": []
   },
   "outputs": [
    {
     "data": {
      "text/plain": [
       "(-0.1, 3.0)"
      ]
     },
     "execution_count": 275,
     "metadata": {},
     "output_type": "execute_result"
    },
    {
     "data": {
      "image/png": "[encoded data removed]",
      "text/plain": [
       "<Figure size 640x480 with 1 Axes>"
      ]
     },
     "metadata": {},
     "output_type": "display_data"
    }
   ],
   "source": [
    "sns.boxplot(data = df_filter_time, x='Variation', y='step_duration_minutes', hue='Variation')\n",
    "plt.ylim(-0.1,3)"
   ]
  },
  {
   "cell_type": "code",
   "execution_count": 282,
   "id": "6eaf3445-95ee-498a-adc6-b6a76c74b6b6",
   "metadata": {
    "tags": []
   },
   "outputs": [
    {
     "data": {
      "text/plain": [
       "Text(0.5, 1.0, 'Average step duration in function of clients age')"
      ]
     },
     "execution_count": 282,
     "metadata": {},
     "output_type": "execute_result"
    },
    {
     "data": {
      "image/png": "[encoded data removed]",
      "text/plain": [
       "<Figure size 640x480 with 1 Axes>"
      ]
     },
     "metadata": {},
     "output_type": "display_data"
    }
   ],
   "source": [
    "sns.barplot(x=df_filter_time['age_bin'], y=df_filter_time['step_duration_minutes'], hue=df_filter_time['Variation'], errorbar=None)  \n",
    "plt.xlabel('Clients age')\n",
    "plt.ylabel('Average step duration')\n",
    "plt.title('Average step duration in function of clients age')"
   ]
  },
  {
   "cell_type": "code",
   "execution_count": 283,
   "id": "e4636472-8f5a-40ab-b1f4-4f92196096c5",
   "metadata": {
    "tags": []
   },
   "outputs": [
    {
     "data": {
      "text/plain": [
       "Text(0.5, 1.0, 'Average step duration in function of clients tenure years')"
      ]
     },
     "execution_count": 283,
     "metadata": {},
     "output_type": "execute_result"
    },
    {
     "data": {
      "image/png": "[encoded data removed]",
      "text/plain": [
       "<Figure size 640x480 with 1 Axes>"
      ]
     },
     "metadata": {},
     "output_type": "display_data"
    }
   ],
   "source": [
    "sns.barplot(x=df_filter_time['tenure_yr_bin'], y=df_filter_time['step_duration_minutes'], hue=df_filter_time['Variation'], errorbar=None)\n",
    "plt.xlabel('Tenure years')\n",
    "plt.ylabel('Average step duration')\n",
    "plt.title('Average step duration in function of clients tenure years')"
   ]
  },
  {
   "cell_type": "code",
   "execution_count": 37,
   "id": "1d06c3a7-3171-4fe4-8a07-31dd0b876d92",
   "metadata": {
    "tags": []
   },
   "outputs": [
    {
     "data": {
      "text/plain": [
       "<Axes: xlabel='gendr', ylabel='step_duration_minutes'>"
      ]
     },
     "execution_count": 37,
     "metadata": {},
     "output_type": "execute_result"
    },
    {
     "data": {
      "image/png": "[encoded data removed]",
      "text/plain": [
       "<Figure size 640x480 with 1 Axes>"
      ]
     },
     "metadata": {},
     "output_type": "display_data"
    }
   ],
   "source": [
    "sns.barplot(x=df_filter_time['gendr'], y=df_filter_time['step_duration_minutes'], hue=df_filter_time['Variation'], errorbar=None)  "
   ]
  },
  {
   "cell_type": "markdown",
   "id": "63ee0b5d-6de5-49be-bb3c-84cdfc64e1a4",
   "metadata": {
    "tags": []
   },
   "source": [
    "## How many times each step was taken\n"
   ]
  },
  {
   "cell_type": "code",
   "execution_count": 297,
   "id": "ceeaba05-0532-44c0-9558-c5de49985174",
   "metadata": {},
   "outputs": [
    {
     "data": {
      "image/png": "[encoded data removed]",
      "text/plain": [
       "<Figure size 640x480 with 1 Axes>"
      ]
     },
     "metadata": {},
     "output_type": "display_data"
    }
   ],
   "source": [
    "columns_to_sum = ['no_of_starts', 'no_of_step_1', 'no_of_step_2', 'no_of_step_3','no_of_confirms']\n",
    "\n",
    "# Melt the DataFrame\n",
    "melted_df = df.melt(id_vars=['Variation'], value_vars=columns_to_sum,\n",
    "                    var_name='Step', value_name='Count')\n",
    "\n",
    "# Sum the values for each Variation and Step combination\n",
    "sum_df = melted_df.groupby(['Variation', 'Step']).sum().reset_index()\n",
    "\n",
    "sum_df = sum_df.sort_values('Variation', ascending=False)\n",
    "\n",
    "sns.barplot(data=sum_df, x='Step', y='Count', hue='Variation',  order=['no_of_starts', 'no_of_step_1', 'no_of_step_2', 'no_of_step_3','no_of_confirms'])\n",
    "\n",
    "# Show the plot\n",
    "plt.show()"
   ]
  },
  {
   "cell_type": "code",
   "execution_count": 296,
   "id": "6b1dfd3b-e992-43b9-b696-f48dec6e9cfd",
   "metadata": {
    "tags": []
   },
   "outputs": [
    {
     "data": {
      "text/html": [
       "<div>\n",
       "<style scoped>\n",
       "    .dataframe tbody tr th:only-of-type {\n",
       "        vertical-align: middle;\n",
       "    }\n",
       "\n",
       "    .dataframe tbody tr th {\n",
       "        vertical-align: top;\n",
       "    }\n",
       "\n",
       "    .dataframe thead th {\n",
       "        text-align: right;\n",
       "    }\n",
       "</style>\n",
       "<table border=\"1\" class=\"dataframe\">\n",
       "  <thead>\n",
       "    <tr style=\"text-align: right;\">\n",
       "      <th></th>\n",
       "      <th>Variation</th>\n",
       "      <th>Step</th>\n",
       "      <th>Count</th>\n",
       "      <th>Percentage</th>\n",
       "    </tr>\n",
       "  </thead>\n",
       "  <tbody>\n",
       "    <tr>\n",
       "      <th>5</th>\n",
       "      <td>Test</td>\n",
       "      <td>no_of_confirms</td>\n",
       "      <td>24883.0</td>\n",
       "      <td>14.165595</td>\n",
       "    </tr>\n",
       "    <tr>\n",
       "      <th>6</th>\n",
       "      <td>Test</td>\n",
       "      <td>no_of_starts</td>\n",
       "      <td>55748.0</td>\n",
       "      <td>31.736670</td>\n",
       "    </tr>\n",
       "    <tr>\n",
       "      <th>7</th>\n",
       "      <td>Test</td>\n",
       "      <td>no_of_step_1</td>\n",
       "      <td>38569.0</td>\n",
       "      <td>21.956871</td>\n",
       "    </tr>\n",
       "    <tr>\n",
       "      <th>8</th>\n",
       "      <td>Test</td>\n",
       "      <td>no_of_step_2</td>\n",
       "      <td>30801.0</td>\n",
       "      <td>17.534641</td>\n",
       "    </tr>\n",
       "    <tr>\n",
       "      <th>9</th>\n",
       "      <td>Test</td>\n",
       "      <td>no_of_step_3</td>\n",
       "      <td>25657.0</td>\n",
       "      <td>14.606223</td>\n",
       "    </tr>\n",
       "    <tr>\n",
       "      <th>0</th>\n",
       "      <td>Control</td>\n",
       "      <td>no_of_confirms</td>\n",
       "      <td>17168.0</td>\n",
       "      <td>12.263208</td>\n",
       "    </tr>\n",
       "    <tr>\n",
       "      <th>1</th>\n",
       "      <td>Control</td>\n",
       "      <td>no_of_starts</td>\n",
       "      <td>45361.0</td>\n",
       "      <td>32.401640</td>\n",
       "    </tr>\n",
       "    <tr>\n",
       "      <th>2</th>\n",
       "      <td>Control</td>\n",
       "      <td>no_of_step_1</td>\n",
       "      <td>29435.0</td>\n",
       "      <td>21.025601</td>\n",
       "    </tr>\n",
       "    <tr>\n",
       "      <th>3</th>\n",
       "      <td>Control</td>\n",
       "      <td>no_of_step_2</td>\n",
       "      <td>25655.0</td>\n",
       "      <td>18.325524</td>\n",
       "    </tr>\n",
       "    <tr>\n",
       "      <th>4</th>\n",
       "      <td>Control</td>\n",
       "      <td>no_of_step_3</td>\n",
       "      <td>22377.0</td>\n",
       "      <td>15.984028</td>\n",
       "    </tr>\n",
       "  </tbody>\n",
       "</table>\n",
       "</div>"
      ],
      "text/plain": [
       "  Variation            Step    Count  Percentage\n",
       "5      Test  no_of_confirms  24883.0   14.165595\n",
       "6      Test    no_of_starts  55748.0   31.736670\n",
       "7      Test    no_of_step_1  38569.0   21.956871\n",
       "8      Test    no_of_step_2  30801.0   17.534641\n",
       "9      Test    no_of_step_3  25657.0   14.606223\n",
       "0   Control  no_of_confirms  17168.0   12.263208\n",
       "1   Control    no_of_starts  45361.0   32.401640\n",
       "2   Control    no_of_step_1  29435.0   21.025601\n",
       "3   Control    no_of_step_2  25655.0   18.325524\n",
       "4   Control    no_of_step_3  22377.0   15.984028"
      ]
     },
     "execution_count": 296,
     "metadata": {},
     "output_type": "execute_result"
    }
   ],
   "source": [
    "sum_df.sort_values('Variation', ascending=False)"
   ]
  },
  {
   "cell_type": "code",
   "execution_count": 71,
   "id": "60b4d5e7-aa08-4c62-9872-b25659ea4971",
   "metadata": {
    "tags": []
   },
   "outputs": [],
   "source": [
    "# Calculate the total number of steps in 'Test' and 'Control' groups\n",
    "total_steps_test = sum_df[sum_df['Variation'] == 'Test']['Count'].sum()\n",
    "total_steps_control = sum_df[sum_df['Variation'] == 'Control']['Count'].sum()\n",
    "\n",
    "# Calculate the percentage directly within the melted DataFrame\n",
    "sum_df['Percentage'] = sum_df.apply(lambda row: (row['Count'] / total_steps_test)*100\n",
    "                                    if row['Variation'] == 'Test'\n",
    "                                    else (row['Count'] / total_steps_control)*100, axis=1)\n",
    "\n",
    "# "
   ]
  },
  {
   "cell_type": "code",
   "execution_count": 78,
   "id": "a5c4753b-2ecc-4aa3-ad46-842f204deb87",
   "metadata": {
    "tags": []
   },
   "outputs": [
    {
     "data": {
      "text/html": [
       "<div>\n",
       "<style scoped>\n",
       "    .dataframe tbody tr th:only-of-type {\n",
       "        vertical-align: middle;\n",
       "    }\n",
       "\n",
       "    .dataframe tbody tr th {\n",
       "        vertical-align: top;\n",
       "    }\n",
       "\n",
       "    .dataframe thead th {\n",
       "        text-align: right;\n",
       "    }\n",
       "</style>\n",
       "<table border=\"1\" class=\"dataframe\">\n",
       "  <thead>\n",
       "    <tr style=\"text-align: right;\">\n",
       "      <th></th>\n",
       "      <th>count</th>\n",
       "      <th>mean</th>\n",
       "      <th>std</th>\n",
       "      <th>min</th>\n",
       "      <th>25%</th>\n",
       "      <th>50%</th>\n",
       "      <th>75%</th>\n",
       "      <th>max</th>\n",
       "    </tr>\n",
       "    <tr>\n",
       "      <th>Variation</th>\n",
       "      <th></th>\n",
       "      <th></th>\n",
       "      <th></th>\n",
       "      <th></th>\n",
       "      <th></th>\n",
       "      <th></th>\n",
       "      <th></th>\n",
       "      <th></th>\n",
       "    </tr>\n",
       "  </thead>\n",
       "  <tbody>\n",
       "    <tr>\n",
       "      <th>Control</th>\n",
       "      <td>23526.0</td>\n",
       "      <td>1.928122</td>\n",
       "      <td>2.147162</td>\n",
       "      <td>0.0</td>\n",
       "      <td>1.0</td>\n",
       "      <td>1.0</td>\n",
       "      <td>2.0</td>\n",
       "      <td>47.0</td>\n",
       "    </tr>\n",
       "    <tr>\n",
       "      <th>Test</th>\n",
       "      <td>26959.0</td>\n",
       "      <td>2.067881</td>\n",
       "      <td>1.869210</td>\n",
       "      <td>0.0</td>\n",
       "      <td>1.0</td>\n",
       "      <td>1.0</td>\n",
       "      <td>3.0</td>\n",
       "      <td>54.0</td>\n",
       "    </tr>\n",
       "  </tbody>\n",
       "</table>\n",
       "</div>"
      ],
      "text/plain": [
       "             count      mean       std  min  25%  50%  75%   max\n",
       "Variation                                                       \n",
       "Control    23526.0  1.928122  2.147162  0.0  1.0  1.0  2.0  47.0\n",
       "Test       26959.0  2.067881  1.869210  0.0  1.0  1.0  3.0  54.0"
      ]
     },
     "execution_count": 78,
     "metadata": {},
     "output_type": "execute_result"
    }
   ],
   "source": [
    "df.groupby('Variation')['no_of_starts'].describe()"
   ]
  },
  {
   "cell_type": "code",
   "execution_count": 81,
   "id": "bb03dd7e-b6c9-4400-9285-d33776e2bb70",
   "metadata": {
    "tags": []
   },
   "outputs": [
    {
     "data": {
      "text/html": [
       "<div>\n",
       "<style scoped>\n",
       "    .dataframe tbody tr th:only-of-type {\n",
       "        vertical-align: middle;\n",
       "    }\n",
       "\n",
       "    .dataframe tbody tr th {\n",
       "        vertical-align: top;\n",
       "    }\n",
       "\n",
       "    .dataframe thead th {\n",
       "        text-align: right;\n",
       "    }\n",
       "</style>\n",
       "<table border=\"1\" class=\"dataframe\">\n",
       "  <thead>\n",
       "    <tr style=\"text-align: right;\">\n",
       "      <th></th>\n",
       "      <th>count</th>\n",
       "      <th>mean</th>\n",
       "      <th>std</th>\n",
       "      <th>min</th>\n",
       "      <th>25%</th>\n",
       "      <th>50%</th>\n",
       "      <th>75%</th>\n",
       "      <th>max</th>\n",
       "    </tr>\n",
       "    <tr>\n",
       "      <th>Variation</th>\n",
       "      <th></th>\n",
       "      <th></th>\n",
       "      <th></th>\n",
       "      <th></th>\n",
       "      <th></th>\n",
       "      <th></th>\n",
       "      <th></th>\n",
       "      <th></th>\n",
       "    </tr>\n",
       "  </thead>\n",
       "  <tbody>\n",
       "    <tr>\n",
       "      <th>Control</th>\n",
       "      <td>23526.0</td>\n",
       "      <td>1.251169</td>\n",
       "      <td>1.025101</td>\n",
       "      <td>0.0</td>\n",
       "      <td>1.0</td>\n",
       "      <td>1.0</td>\n",
       "      <td>1.0</td>\n",
       "      <td>13.0</td>\n",
       "    </tr>\n",
       "    <tr>\n",
       "      <th>Test</th>\n",
       "      <td>26959.0</td>\n",
       "      <td>1.430654</td>\n",
       "      <td>1.186893</td>\n",
       "      <td>0.0</td>\n",
       "      <td>1.0</td>\n",
       "      <td>1.0</td>\n",
       "      <td>2.0</td>\n",
       "      <td>21.0</td>\n",
       "    </tr>\n",
       "  </tbody>\n",
       "</table>\n",
       "</div>"
      ],
      "text/plain": [
       "             count      mean       std  min  25%  50%  75%   max\n",
       "Variation                                                       \n",
       "Control    23526.0  1.251169  1.025101  0.0  1.0  1.0  1.0  13.0\n",
       "Test       26959.0  1.430654  1.186893  0.0  1.0  1.0  2.0  21.0"
      ]
     },
     "execution_count": 81,
     "metadata": {},
     "output_type": "execute_result"
    }
   ],
   "source": [
    "df.groupby('Variation')['no_of_step_1'].describe()"
   ]
  },
  {
   "cell_type": "code",
   "execution_count": 85,
   "id": "d77c0502-2540-4560-bcbc-af04a45ff0d0",
   "metadata": {
    "tags": []
   },
   "outputs": [
    {
     "data": {
      "text/html": [
       "<div>\n",
       "<style scoped>\n",
       "    .dataframe tbody tr th:only-of-type {\n",
       "        vertical-align: middle;\n",
       "    }\n",
       "\n",
       "    .dataframe tbody tr th {\n",
       "        vertical-align: top;\n",
       "    }\n",
       "\n",
       "    .dataframe thead th {\n",
       "        text-align: right;\n",
       "    }\n",
       "</style>\n",
       "<table border=\"1\" class=\"dataframe\">\n",
       "  <thead>\n",
       "    <tr style=\"text-align: right;\">\n",
       "      <th></th>\n",
       "      <th>count</th>\n",
       "      <th>mean</th>\n",
       "      <th>std</th>\n",
       "      <th>min</th>\n",
       "      <th>25%</th>\n",
       "      <th>50%</th>\n",
       "      <th>75%</th>\n",
       "      <th>max</th>\n",
       "    </tr>\n",
       "    <tr>\n",
       "      <th>Variation</th>\n",
       "      <th></th>\n",
       "      <th></th>\n",
       "      <th></th>\n",
       "      <th></th>\n",
       "      <th></th>\n",
       "      <th></th>\n",
       "      <th></th>\n",
       "      <th></th>\n",
       "    </tr>\n",
       "  </thead>\n",
       "  <tbody>\n",
       "    <tr>\n",
       "      <th>Control</th>\n",
       "      <td>23526.0</td>\n",
       "      <td>1.090496</td>\n",
       "      <td>0.924351</td>\n",
       "      <td>0.0</td>\n",
       "      <td>1.0</td>\n",
       "      <td>1.0</td>\n",
       "      <td>1.0</td>\n",
       "      <td>18.0</td>\n",
       "    </tr>\n",
       "    <tr>\n",
       "      <th>Test</th>\n",
       "      <td>26959.0</td>\n",
       "      <td>1.142513</td>\n",
       "      <td>1.036511</td>\n",
       "      <td>0.0</td>\n",
       "      <td>1.0</td>\n",
       "      <td>1.0</td>\n",
       "      <td>1.0</td>\n",
       "      <td>24.0</td>\n",
       "    </tr>\n",
       "  </tbody>\n",
       "</table>\n",
       "</div>"
      ],
      "text/plain": [
       "             count      mean       std  min  25%  50%  75%   max\n",
       "Variation                                                       \n",
       "Control    23526.0  1.090496  0.924351  0.0  1.0  1.0  1.0  18.0\n",
       "Test       26959.0  1.142513  1.036511  0.0  1.0  1.0  1.0  24.0"
      ]
     },
     "execution_count": 85,
     "metadata": {},
     "output_type": "execute_result"
    }
   ],
   "source": [
    "df.groupby('Variation')['no_of_step_2'].describe()"
   ]
  },
  {
   "cell_type": "code",
   "execution_count": 86,
   "id": "b7190a1d-ec3c-4850-81c1-b40e95ebf9cc",
   "metadata": {
    "tags": []
   },
   "outputs": [
    {
     "data": {
      "text/html": [
       "<div>\n",
       "<style scoped>\n",
       "    .dataframe tbody tr th:only-of-type {\n",
       "        vertical-align: middle;\n",
       "    }\n",
       "\n",
       "    .dataframe tbody tr th {\n",
       "        vertical-align: top;\n",
       "    }\n",
       "\n",
       "    .dataframe thead th {\n",
       "        text-align: right;\n",
       "    }\n",
       "</style>\n",
       "<table border=\"1\" class=\"dataframe\">\n",
       "  <thead>\n",
       "    <tr style=\"text-align: right;\">\n",
       "      <th></th>\n",
       "      <th>count</th>\n",
       "      <th>mean</th>\n",
       "      <th>std</th>\n",
       "      <th>min</th>\n",
       "      <th>25%</th>\n",
       "      <th>50%</th>\n",
       "      <th>75%</th>\n",
       "      <th>max</th>\n",
       "    </tr>\n",
       "    <tr>\n",
       "      <th>Variation</th>\n",
       "      <th></th>\n",
       "      <th></th>\n",
       "      <th></th>\n",
       "      <th></th>\n",
       "      <th></th>\n",
       "      <th></th>\n",
       "      <th></th>\n",
       "      <th></th>\n",
       "    </tr>\n",
       "  </thead>\n",
       "  <tbody>\n",
       "    <tr>\n",
       "      <th>Control</th>\n",
       "      <td>23526.0</td>\n",
       "      <td>0.951160</td>\n",
       "      <td>0.825751</td>\n",
       "      <td>0.0</td>\n",
       "      <td>0.0</td>\n",
       "      <td>1.0</td>\n",
       "      <td>1.0</td>\n",
       "      <td>17.0</td>\n",
       "    </tr>\n",
       "    <tr>\n",
       "      <th>Test</th>\n",
       "      <td>26959.0</td>\n",
       "      <td>0.951704</td>\n",
       "      <td>0.817430</td>\n",
       "      <td>0.0</td>\n",
       "      <td>1.0</td>\n",
       "      <td>1.0</td>\n",
       "      <td>1.0</td>\n",
       "      <td>17.0</td>\n",
       "    </tr>\n",
       "  </tbody>\n",
       "</table>\n",
       "</div>"
      ],
      "text/plain": [
       "             count      mean       std  min  25%  50%  75%   max\n",
       "Variation                                                       \n",
       "Control    23526.0  0.951160  0.825751  0.0  0.0  1.0  1.0  17.0\n",
       "Test       26959.0  0.951704  0.817430  0.0  1.0  1.0  1.0  17.0"
      ]
     },
     "execution_count": 86,
     "metadata": {},
     "output_type": "execute_result"
    }
   ],
   "source": [
    "df.groupby('Variation')['no_of_step_3'].describe()"
   ]
  },
  {
   "cell_type": "code",
   "execution_count": 87,
   "id": "5678bf23-b3dc-4111-9ab8-4b0aea00788d",
   "metadata": {
    "tags": []
   },
   "outputs": [
    {
     "data": {
      "text/html": [
       "<div>\n",
       "<style scoped>\n",
       "    .dataframe tbody tr th:only-of-type {\n",
       "        vertical-align: middle;\n",
       "    }\n",
       "\n",
       "    .dataframe tbody tr th {\n",
       "        vertical-align: top;\n",
       "    }\n",
       "\n",
       "    .dataframe thead th {\n",
       "        text-align: right;\n",
       "    }\n",
       "</style>\n",
       "<table border=\"1\" class=\"dataframe\">\n",
       "  <thead>\n",
       "    <tr style=\"text-align: right;\">\n",
       "      <th></th>\n",
       "      <th>count</th>\n",
       "      <th>mean</th>\n",
       "      <th>std</th>\n",
       "      <th>min</th>\n",
       "      <th>25%</th>\n",
       "      <th>50%</th>\n",
       "      <th>75%</th>\n",
       "      <th>max</th>\n",
       "    </tr>\n",
       "    <tr>\n",
       "      <th>Variation</th>\n",
       "      <th></th>\n",
       "      <th></th>\n",
       "      <th></th>\n",
       "      <th></th>\n",
       "      <th></th>\n",
       "      <th></th>\n",
       "      <th></th>\n",
       "      <th></th>\n",
       "    </tr>\n",
       "  </thead>\n",
       "  <tbody>\n",
       "    <tr>\n",
       "      <th>Control</th>\n",
       "      <td>23526.0</td>\n",
       "      <td>0.729746</td>\n",
       "      <td>0.691522</td>\n",
       "      <td>0.0</td>\n",
       "      <td>0.0</td>\n",
       "      <td>1.0</td>\n",
       "      <td>1.0</td>\n",
       "      <td>15.0</td>\n",
       "    </tr>\n",
       "    <tr>\n",
       "      <th>Test</th>\n",
       "      <td>26959.0</td>\n",
       "      <td>0.922994</td>\n",
       "      <td>1.027086</td>\n",
       "      <td>0.0</td>\n",
       "      <td>0.0</td>\n",
       "      <td>1.0</td>\n",
       "      <td>1.0</td>\n",
       "      <td>19.0</td>\n",
       "    </tr>\n",
       "  </tbody>\n",
       "</table>\n",
       "</div>"
      ],
      "text/plain": [
       "             count      mean       std  min  25%  50%  75%   max\n",
       "Variation                                                       \n",
       "Control    23526.0  0.729746  0.691522  0.0  0.0  1.0  1.0  15.0\n",
       "Test       26959.0  0.922994  1.027086  0.0  0.0  1.0  1.0  19.0"
      ]
     },
     "execution_count": 87,
     "metadata": {},
     "output_type": "execute_result"
    }
   ],
   "source": [
    "df.groupby('Variation')['no_of_confirms'].describe()"
   ]
  },
  {
   "cell_type": "code",
   "execution_count": 88,
   "id": "a740249d-cf9a-47a9-85ee-5a75143b16b3",
   "metadata": {
    "tags": []
   },
   "outputs": [
    {
     "data": {
      "text/html": [
       "<div>\n",
       "<style scoped>\n",
       "    .dataframe tbody tr th:only-of-type {\n",
       "        vertical-align: middle;\n",
       "    }\n",
       "\n",
       "    .dataframe tbody tr th {\n",
       "        vertical-align: top;\n",
       "    }\n",
       "\n",
       "    .dataframe thead th {\n",
       "        text-align: right;\n",
       "    }\n",
       "</style>\n",
       "<table border=\"1\" class=\"dataframe\">\n",
       "  <thead>\n",
       "    <tr style=\"text-align: right;\">\n",
       "      <th></th>\n",
       "      <th>client_id</th>\n",
       "      <th>clnt_tenure_yr</th>\n",
       "      <th>clnt_tenure_mnth</th>\n",
       "      <th>clnt_age</th>\n",
       "      <th>gendr</th>\n",
       "      <th>num_accts</th>\n",
       "      <th>bal</th>\n",
       "      <th>calls_6_mnth</th>\n",
       "      <th>logons_6_mnth</th>\n",
       "      <th>Variation</th>\n",
       "      <th>...</th>\n",
       "      <th>no_of_visits</th>\n",
       "      <th>is_confirmed</th>\n",
       "      <th>no_of_starts</th>\n",
       "      <th>no_of_step_1</th>\n",
       "      <th>no_of_step_2</th>\n",
       "      <th>no_of_step_3</th>\n",
       "      <th>no_of_confirms</th>\n",
       "      <th>step_duration_minutes</th>\n",
       "      <th>age_bin</th>\n",
       "      <th>tenure_yr_bin</th>\n",
       "    </tr>\n",
       "  </thead>\n",
       "  <tbody>\n",
       "    <tr>\n",
       "      <th>43936</th>\n",
       "      <td>7597144</td>\n",
       "      <td>5.0</td>\n",
       "      <td>67.0</td>\n",
       "      <td>67.0</td>\n",
       "      <td>M</td>\n",
       "      <td>2.0</td>\n",
       "      <td>140305.91</td>\n",
       "      <td>5.0</td>\n",
       "      <td>8.0</td>\n",
       "      <td>Test</td>\n",
       "      <td>...</td>\n",
       "      <td>7</td>\n",
       "      <td>True</td>\n",
       "      <td>54.0</td>\n",
       "      <td>1.0</td>\n",
       "      <td>1.0</td>\n",
       "      <td>1.0</td>\n",
       "      <td>1</td>\n",
       "      <td>0.971895</td>\n",
       "      <td>&gt;65yrs</td>\n",
       "      <td>3-5yrs</td>\n",
       "    </tr>\n",
       "  </tbody>\n",
       "</table>\n",
       "<p>1 rows × 25 columns</p>\n",
       "</div>"
      ],
      "text/plain": [
       "       client_id  clnt_tenure_yr  clnt_tenure_mnth  clnt_age gendr  num_accts  \\\n",
       "43936    7597144             5.0              67.0      67.0     M        2.0   \n",
       "\n",
       "             bal  calls_6_mnth  logons_6_mnth Variation  ... no_of_visits  \\\n",
       "43936  140305.91           5.0            8.0      Test  ...            7   \n",
       "\n",
       "       is_confirmed  no_of_starts  no_of_step_1  no_of_step_2  no_of_step_3  \\\n",
       "43936          True          54.0           1.0           1.0           1.0   \n",
       "\n",
       "       no_of_confirms  step_duration_minutes  age_bin  tenure_yr_bin  \n",
       "43936               1               0.971895   >65yrs         3-5yrs  \n",
       "\n",
       "[1 rows x 25 columns]"
      ]
     },
     "execution_count": 88,
     "metadata": {},
     "output_type": "execute_result"
    }
   ],
   "source": [
    "#sum_df[sum_df['Variation'] == 'Test']['Percentage'].sum()\n",
    "df[df['no_of_starts'] == 54]"
   ]
  },
  {
   "cell_type": "markdown",
   "id": "bd38ed26-f341-4501-ba1d-0de027734bf5",
   "metadata": {
    "jp-MarkdownHeadingCollapsed": true,
    "tags": []
   },
   "source": [
    "## Time filtering checks"
   ]
  },
  {
   "cell_type": "code",
   "execution_count": 41,
   "id": "00bbc7eb-b30d-467f-a3d8-bb04a22c613c",
   "metadata": {
    "tags": []
   },
   "outputs": [],
   "source": [
    "#df[df['step_duration_minutes'] > 10].sort_values(by='step_duration_minutes', ascending=False).head(20)\n",
    "#df[df['step_duration_minutes']==0].count()"
   ]
  },
  {
   "cell_type": "code",
   "execution_count": 42,
   "id": "63a886c1-718a-4460-8ccb-832471c92e3c",
   "metadata": {
    "tags": []
   },
   "outputs": [
    {
     "data": {
      "text/plain": [
       "3916"
      ]
     },
     "execution_count": 42,
     "metadata": {},
     "output_type": "execute_result"
    }
   ],
   "source": [
    "df[(df['progress_count']==0) & (df['step_duration_minutes']==0)]['client_id'].count()"
   ]
  },
  {
   "cell_type": "code",
   "execution_count": 43,
   "id": "b39bedf2-e08f-40ae-9c06-f66eb7ffe418",
   "metadata": {
    "tags": []
   },
   "outputs": [
    {
     "data": {
      "text/html": [
       "<div>\n",
       "<style scoped>\n",
       "    .dataframe tbody tr th:only-of-type {\n",
       "        vertical-align: middle;\n",
       "    }\n",
       "\n",
       "    .dataframe tbody tr th {\n",
       "        vertical-align: top;\n",
       "    }\n",
       "\n",
       "    .dataframe thead th {\n",
       "        text-align: right;\n",
       "    }\n",
       "</style>\n",
       "<table border=\"1\" class=\"dataframe\">\n",
       "  <thead>\n",
       "    <tr style=\"text-align: right;\">\n",
       "      <th></th>\n",
       "      <th>client_id</th>\n",
       "      <th>clnt_tenure_yr</th>\n",
       "      <th>clnt_tenure_mnth</th>\n",
       "      <th>clnt_age</th>\n",
       "      <th>gendr</th>\n",
       "      <th>num_accts</th>\n",
       "      <th>bal</th>\n",
       "      <th>calls_6_mnth</th>\n",
       "      <th>logons_6_mnth</th>\n",
       "      <th>Variation</th>\n",
       "      <th>...</th>\n",
       "      <th>no_of_visits</th>\n",
       "      <th>is_confirmed</th>\n",
       "      <th>no_of_starts</th>\n",
       "      <th>no_of_step_1</th>\n",
       "      <th>no_of_step_2</th>\n",
       "      <th>no_of_step_3</th>\n",
       "      <th>no_of_confirms</th>\n",
       "      <th>step_duration_minutes</th>\n",
       "      <th>age_bin</th>\n",
       "      <th>tenure_yr_bin</th>\n",
       "    </tr>\n",
       "  </thead>\n",
       "  <tbody>\n",
       "    <tr>\n",
       "      <th>2893</th>\n",
       "      <td>9764903</td>\n",
       "      <td>5.0</td>\n",
       "      <td>70.0</td>\n",
       "      <td>34.0</td>\n",
       "      <td>U</td>\n",
       "      <td>2.0</td>\n",
       "      <td>37914.91</td>\n",
       "      <td>0.0</td>\n",
       "      <td>3.0</td>\n",
       "      <td>Control</td>\n",
       "      <td>...</td>\n",
       "      <td>1</td>\n",
       "      <td>False</td>\n",
       "      <td>1.0</td>\n",
       "      <td>1.0</td>\n",
       "      <td>0.0</td>\n",
       "      <td>0.0</td>\n",
       "      <td>0</td>\n",
       "      <td>0.016667</td>\n",
       "      <td>25-35yrs</td>\n",
       "      <td>3-5yrs</td>\n",
       "    </tr>\n",
       "    <tr>\n",
       "      <th>18572</th>\n",
       "      <td>9451034</td>\n",
       "      <td>7.0</td>\n",
       "      <td>90.0</td>\n",
       "      <td>63.0</td>\n",
       "      <td>U</td>\n",
       "      <td>2.0</td>\n",
       "      <td>700980.27</td>\n",
       "      <td>3.0</td>\n",
       "      <td>6.0</td>\n",
       "      <td>Test</td>\n",
       "      <td>...</td>\n",
       "      <td>1</td>\n",
       "      <td>False</td>\n",
       "      <td>1.0</td>\n",
       "      <td>1.0</td>\n",
       "      <td>0.0</td>\n",
       "      <td>0.0</td>\n",
       "      <td>0</td>\n",
       "      <td>1.450000</td>\n",
       "      <td>55-65yrs</td>\n",
       "      <td>6-10yrs</td>\n",
       "    </tr>\n",
       "  </tbody>\n",
       "</table>\n",
       "<p>2 rows × 25 columns</p>\n",
       "</div>"
      ],
      "text/plain": [
       "       client_id  clnt_tenure_yr  clnt_tenure_mnth  clnt_age gendr  num_accts  \\\n",
       "2893     9764903             5.0              70.0      34.0     U        2.0   \n",
       "18572    9451034             7.0              90.0      63.0     U        2.0   \n",
       "\n",
       "             bal  calls_6_mnth  logons_6_mnth Variation  ... no_of_visits  \\\n",
       "2893    37914.91           0.0            3.0   Control  ...            1   \n",
       "18572  700980.27           3.0            6.0      Test  ...            1   \n",
       "\n",
       "       is_confirmed  no_of_starts  no_of_step_1  no_of_step_2  no_of_step_3  \\\n",
       "2893          False           1.0           1.0           0.0           0.0   \n",
       "18572         False           1.0           1.0           0.0           0.0   \n",
       "\n",
       "       no_of_confirms  step_duration_minutes   age_bin  tenure_yr_bin  \n",
       "2893                0               0.016667  25-35yrs         3-5yrs  \n",
       "18572               0               1.450000  55-65yrs        6-10yrs  \n",
       "\n",
       "[2 rows x 25 columns]"
      ]
     },
     "execution_count": 43,
     "metadata": {},
     "output_type": "execute_result"
    }
   ],
   "source": [
    "df[(df['progress_count']==0) & (df['step_duration_minutes']>0) & (df['no_of_step_1']>0)]"
   ]
  },
  {
   "cell_type": "code",
   "execution_count": 44,
   "id": "95e45a92-1721-4ab6-8755-00bd3a7342a3",
   "metadata": {
    "tags": []
   },
   "outputs": [
    {
     "data": {
      "text/html": [
       "<div>\n",
       "<style scoped>\n",
       "    .dataframe tbody tr th:only-of-type {\n",
       "        vertical-align: middle;\n",
       "    }\n",
       "\n",
       "    .dataframe tbody tr th {\n",
       "        vertical-align: top;\n",
       "    }\n",
       "\n",
       "    .dataframe thead th {\n",
       "        text-align: right;\n",
       "    }\n",
       "</style>\n",
       "<table border=\"1\" class=\"dataframe\">\n",
       "  <thead>\n",
       "    <tr style=\"text-align: right;\">\n",
       "      <th></th>\n",
       "      <th>client_id</th>\n",
       "      <th>clnt_tenure_yr</th>\n",
       "      <th>clnt_tenure_mnth</th>\n",
       "      <th>clnt_age</th>\n",
       "      <th>gendr</th>\n",
       "      <th>num_accts</th>\n",
       "      <th>bal</th>\n",
       "      <th>calls_6_mnth</th>\n",
       "      <th>logons_6_mnth</th>\n",
       "      <th>Variation</th>\n",
       "      <th>...</th>\n",
       "      <th>no_of_visits</th>\n",
       "      <th>is_confirmed</th>\n",
       "      <th>no_of_starts</th>\n",
       "      <th>no_of_step_1</th>\n",
       "      <th>no_of_step_2</th>\n",
       "      <th>no_of_step_3</th>\n",
       "      <th>no_of_confirms</th>\n",
       "      <th>step_duration_minutes</th>\n",
       "      <th>age_bin</th>\n",
       "      <th>tenure_yr_bin</th>\n",
       "    </tr>\n",
       "  </thead>\n",
       "  <tbody>\n",
       "    <tr>\n",
       "      <th>5562</th>\n",
       "      <td>938393</td>\n",
       "      <td>17.0</td>\n",
       "      <td>208.0</td>\n",
       "      <td>60.0</td>\n",
       "      <td>F</td>\n",
       "      <td>2.0</td>\n",
       "      <td>75019.81</td>\n",
       "      <td>1.0</td>\n",
       "      <td>4.0</td>\n",
       "      <td>Test</td>\n",
       "      <td>...</td>\n",
       "      <td>1</td>\n",
       "      <td>False</td>\n",
       "      <td>2.0</td>\n",
       "      <td>0.0</td>\n",
       "      <td>0.0</td>\n",
       "      <td>0.0</td>\n",
       "      <td>0</td>\n",
       "      <td>21.466667</td>\n",
       "      <td>55-65yrs</td>\n",
       "      <td>11-20yrs</td>\n",
       "    </tr>\n",
       "    <tr>\n",
       "      <th>6660</th>\n",
       "      <td>9468174</td>\n",
       "      <td>14.0</td>\n",
       "      <td>173.0</td>\n",
       "      <td>74.0</td>\n",
       "      <td>F</td>\n",
       "      <td>2.0</td>\n",
       "      <td>31790.75</td>\n",
       "      <td>3.0</td>\n",
       "      <td>6.0</td>\n",
       "      <td>Control</td>\n",
       "      <td>...</td>\n",
       "      <td>1</td>\n",
       "      <td>False</td>\n",
       "      <td>3.0</td>\n",
       "      <td>0.0</td>\n",
       "      <td>0.0</td>\n",
       "      <td>0.0</td>\n",
       "      <td>0</td>\n",
       "      <td>27.808333</td>\n",
       "      <td>&gt;65yrs</td>\n",
       "      <td>11-20yrs</td>\n",
       "    </tr>\n",
       "    <tr>\n",
       "      <th>9745</th>\n",
       "      <td>5844424</td>\n",
       "      <td>21.0</td>\n",
       "      <td>254.0</td>\n",
       "      <td>82.0</td>\n",
       "      <td>F</td>\n",
       "      <td>2.0</td>\n",
       "      <td>28526.58</td>\n",
       "      <td>0.0</td>\n",
       "      <td>4.0</td>\n",
       "      <td>Control</td>\n",
       "      <td>...</td>\n",
       "      <td>1</td>\n",
       "      <td>False</td>\n",
       "      <td>2.0</td>\n",
       "      <td>0.0</td>\n",
       "      <td>0.0</td>\n",
       "      <td>0.0</td>\n",
       "      <td>0</td>\n",
       "      <td>23.683333</td>\n",
       "      <td>&gt;65yrs</td>\n",
       "      <td>21-30yrs</td>\n",
       "    </tr>\n",
       "    <tr>\n",
       "      <th>12537</th>\n",
       "      <td>7537182</td>\n",
       "      <td>14.0</td>\n",
       "      <td>178.0</td>\n",
       "      <td>34.0</td>\n",
       "      <td>F</td>\n",
       "      <td>2.0</td>\n",
       "      <td>68026.11</td>\n",
       "      <td>0.0</td>\n",
       "      <td>3.0</td>\n",
       "      <td>Test</td>\n",
       "      <td>...</td>\n",
       "      <td>1</td>\n",
       "      <td>False</td>\n",
       "      <td>2.0</td>\n",
       "      <td>0.0</td>\n",
       "      <td>0.0</td>\n",
       "      <td>0.0</td>\n",
       "      <td>0</td>\n",
       "      <td>27.550000</td>\n",
       "      <td>25-35yrs</td>\n",
       "      <td>11-20yrs</td>\n",
       "    </tr>\n",
       "    <tr>\n",
       "      <th>13894</th>\n",
       "      <td>3826133</td>\n",
       "      <td>5.0</td>\n",
       "      <td>70.0</td>\n",
       "      <td>26.0</td>\n",
       "      <td>U</td>\n",
       "      <td>2.0</td>\n",
       "      <td>56168.82</td>\n",
       "      <td>3.0</td>\n",
       "      <td>6.0</td>\n",
       "      <td>Test</td>\n",
       "      <td>...</td>\n",
       "      <td>1</td>\n",
       "      <td>False</td>\n",
       "      <td>2.0</td>\n",
       "      <td>0.0</td>\n",
       "      <td>0.0</td>\n",
       "      <td>0.0</td>\n",
       "      <td>0</td>\n",
       "      <td>44.066667</td>\n",
       "      <td>25-35yrs</td>\n",
       "      <td>3-5yrs</td>\n",
       "    </tr>\n",
       "    <tr>\n",
       "      <th>16423</th>\n",
       "      <td>2820408</td>\n",
       "      <td>4.0</td>\n",
       "      <td>59.0</td>\n",
       "      <td>33.0</td>\n",
       "      <td>U</td>\n",
       "      <td>2.0</td>\n",
       "      <td>30770.40</td>\n",
       "      <td>0.0</td>\n",
       "      <td>3.0</td>\n",
       "      <td>Test</td>\n",
       "      <td>...</td>\n",
       "      <td>1</td>\n",
       "      <td>False</td>\n",
       "      <td>2.0</td>\n",
       "      <td>0.0</td>\n",
       "      <td>0.0</td>\n",
       "      <td>0.0</td>\n",
       "      <td>0</td>\n",
       "      <td>23.950000</td>\n",
       "      <td>25-35yrs</td>\n",
       "      <td>3-5yrs</td>\n",
       "    </tr>\n",
       "    <tr>\n",
       "      <th>17493</th>\n",
       "      <td>702591</td>\n",
       "      <td>22.0</td>\n",
       "      <td>271.0</td>\n",
       "      <td>47.0</td>\n",
       "      <td>F</td>\n",
       "      <td>2.0</td>\n",
       "      <td>50290.69</td>\n",
       "      <td>2.0</td>\n",
       "      <td>5.0</td>\n",
       "      <td>Control</td>\n",
       "      <td>...</td>\n",
       "      <td>1</td>\n",
       "      <td>False</td>\n",
       "      <td>2.0</td>\n",
       "      <td>0.0</td>\n",
       "      <td>0.0</td>\n",
       "      <td>0.0</td>\n",
       "      <td>0</td>\n",
       "      <td>30.450000</td>\n",
       "      <td>45-55yrs</td>\n",
       "      <td>21-30yrs</td>\n",
       "    </tr>\n",
       "    <tr>\n",
       "      <th>18496</th>\n",
       "      <td>7183287</td>\n",
       "      <td>26.0</td>\n",
       "      <td>323.0</td>\n",
       "      <td>44.0</td>\n",
       "      <td>F</td>\n",
       "      <td>2.0</td>\n",
       "      <td>94064.34</td>\n",
       "      <td>0.0</td>\n",
       "      <td>3.0</td>\n",
       "      <td>Control</td>\n",
       "      <td>...</td>\n",
       "      <td>2</td>\n",
       "      <td>False</td>\n",
       "      <td>3.0</td>\n",
       "      <td>0.0</td>\n",
       "      <td>0.0</td>\n",
       "      <td>0.0</td>\n",
       "      <td>0</td>\n",
       "      <td>32.350000</td>\n",
       "      <td>35-45yrs</td>\n",
       "      <td>21-30yrs</td>\n",
       "    </tr>\n",
       "    <tr>\n",
       "      <th>25276</th>\n",
       "      <td>246922</td>\n",
       "      <td>9.0</td>\n",
       "      <td>119.0</td>\n",
       "      <td>68.0</td>\n",
       "      <td>F</td>\n",
       "      <td>2.0</td>\n",
       "      <td>90480.75</td>\n",
       "      <td>3.0</td>\n",
       "      <td>6.0</td>\n",
       "      <td>Test</td>\n",
       "      <td>...</td>\n",
       "      <td>1</td>\n",
       "      <td>False</td>\n",
       "      <td>2.0</td>\n",
       "      <td>0.0</td>\n",
       "      <td>0.0</td>\n",
       "      <td>0.0</td>\n",
       "      <td>0</td>\n",
       "      <td>41.083333</td>\n",
       "      <td>&gt;65yrs</td>\n",
       "      <td>6-10yrs</td>\n",
       "    </tr>\n",
       "    <tr>\n",
       "      <th>25468</th>\n",
       "      <td>8912315</td>\n",
       "      <td>23.0</td>\n",
       "      <td>284.0</td>\n",
       "      <td>68.0</td>\n",
       "      <td>F</td>\n",
       "      <td>4.0</td>\n",
       "      <td>769124.40</td>\n",
       "      <td>6.0</td>\n",
       "      <td>9.0</td>\n",
       "      <td>Control</td>\n",
       "      <td>...</td>\n",
       "      <td>2</td>\n",
       "      <td>True</td>\n",
       "      <td>0.0</td>\n",
       "      <td>0.0</td>\n",
       "      <td>0.0</td>\n",
       "      <td>0.0</td>\n",
       "      <td>0</td>\n",
       "      <td>28.150000</td>\n",
       "      <td>&gt;65yrs</td>\n",
       "      <td>21-30yrs</td>\n",
       "    </tr>\n",
       "    <tr>\n",
       "      <th>30420</th>\n",
       "      <td>5534302</td>\n",
       "      <td>4.0</td>\n",
       "      <td>54.0</td>\n",
       "      <td>66.0</td>\n",
       "      <td>U</td>\n",
       "      <td>2.0</td>\n",
       "      <td>60516.33</td>\n",
       "      <td>6.0</td>\n",
       "      <td>9.0</td>\n",
       "      <td>Control</td>\n",
       "      <td>...</td>\n",
       "      <td>1</td>\n",
       "      <td>False</td>\n",
       "      <td>2.0</td>\n",
       "      <td>0.0</td>\n",
       "      <td>0.0</td>\n",
       "      <td>0.0</td>\n",
       "      <td>0</td>\n",
       "      <td>22.216667</td>\n",
       "      <td>&gt;65yrs</td>\n",
       "      <td>3-5yrs</td>\n",
       "    </tr>\n",
       "    <tr>\n",
       "      <th>31515</th>\n",
       "      <td>2378055</td>\n",
       "      <td>4.0</td>\n",
       "      <td>59.0</td>\n",
       "      <td>23.0</td>\n",
       "      <td>U</td>\n",
       "      <td>2.0</td>\n",
       "      <td>30709.12</td>\n",
       "      <td>1.0</td>\n",
       "      <td>4.0</td>\n",
       "      <td>Test</td>\n",
       "      <td>...</td>\n",
       "      <td>1</td>\n",
       "      <td>True</td>\n",
       "      <td>0.0</td>\n",
       "      <td>0.0</td>\n",
       "      <td>0.0</td>\n",
       "      <td>0.0</td>\n",
       "      <td>0</td>\n",
       "      <td>24.333333</td>\n",
       "      <td>18-25yrs</td>\n",
       "      <td>3-5yrs</td>\n",
       "    </tr>\n",
       "    <tr>\n",
       "      <th>32793</th>\n",
       "      <td>8927536</td>\n",
       "      <td>4.0</td>\n",
       "      <td>58.0</td>\n",
       "      <td>28.0</td>\n",
       "      <td>M</td>\n",
       "      <td>2.0</td>\n",
       "      <td>34035.90</td>\n",
       "      <td>0.0</td>\n",
       "      <td>3.0</td>\n",
       "      <td>Control</td>\n",
       "      <td>...</td>\n",
       "      <td>1</td>\n",
       "      <td>False</td>\n",
       "      <td>2.0</td>\n",
       "      <td>0.0</td>\n",
       "      <td>0.0</td>\n",
       "      <td>0.0</td>\n",
       "      <td>0</td>\n",
       "      <td>21.833333</td>\n",
       "      <td>25-35yrs</td>\n",
       "      <td>3-5yrs</td>\n",
       "    </tr>\n",
       "    <tr>\n",
       "      <th>34265</th>\n",
       "      <td>3612912</td>\n",
       "      <td>16.0</td>\n",
       "      <td>192.0</td>\n",
       "      <td>35.0</td>\n",
       "      <td>M</td>\n",
       "      <td>2.0</td>\n",
       "      <td>90878.53</td>\n",
       "      <td>6.0</td>\n",
       "      <td>9.0</td>\n",
       "      <td>Test</td>\n",
       "      <td>...</td>\n",
       "      <td>1</td>\n",
       "      <td>False</td>\n",
       "      <td>2.0</td>\n",
       "      <td>0.0</td>\n",
       "      <td>0.0</td>\n",
       "      <td>0.0</td>\n",
       "      <td>0</td>\n",
       "      <td>25.966667</td>\n",
       "      <td>35-45yrs</td>\n",
       "      <td>11-20yrs</td>\n",
       "    </tr>\n",
       "    <tr>\n",
       "      <th>34659</th>\n",
       "      <td>6392043</td>\n",
       "      <td>23.0</td>\n",
       "      <td>287.0</td>\n",
       "      <td>48.0</td>\n",
       "      <td>U</td>\n",
       "      <td>3.0</td>\n",
       "      <td>329880.81</td>\n",
       "      <td>6.0</td>\n",
       "      <td>9.0</td>\n",
       "      <td>Test</td>\n",
       "      <td>...</td>\n",
       "      <td>2</td>\n",
       "      <td>False</td>\n",
       "      <td>10.0</td>\n",
       "      <td>0.0</td>\n",
       "      <td>0.0</td>\n",
       "      <td>0.0</td>\n",
       "      <td>0</td>\n",
       "      <td>65.883333</td>\n",
       "      <td>45-55yrs</td>\n",
       "      <td>21-30yrs</td>\n",
       "    </tr>\n",
       "    <tr>\n",
       "      <th>42369</th>\n",
       "      <td>2154960</td>\n",
       "      <td>18.0</td>\n",
       "      <td>217.0</td>\n",
       "      <td>55.0</td>\n",
       "      <td>U</td>\n",
       "      <td>2.0</td>\n",
       "      <td>126868.28</td>\n",
       "      <td>3.0</td>\n",
       "      <td>6.0</td>\n",
       "      <td>Test</td>\n",
       "      <td>...</td>\n",
       "      <td>2</td>\n",
       "      <td>False</td>\n",
       "      <td>5.0</td>\n",
       "      <td>0.0</td>\n",
       "      <td>0.0</td>\n",
       "      <td>0.0</td>\n",
       "      <td>0</td>\n",
       "      <td>22.805556</td>\n",
       "      <td>55-65yrs</td>\n",
       "      <td>11-20yrs</td>\n",
       "    </tr>\n",
       "    <tr>\n",
       "      <th>43908</th>\n",
       "      <td>4427449</td>\n",
       "      <td>28.0</td>\n",
       "      <td>347.0</td>\n",
       "      <td>67.0</td>\n",
       "      <td>F</td>\n",
       "      <td>2.0</td>\n",
       "      <td>117560.71</td>\n",
       "      <td>0.0</td>\n",
       "      <td>3.0</td>\n",
       "      <td>Test</td>\n",
       "      <td>...</td>\n",
       "      <td>1</td>\n",
       "      <td>False</td>\n",
       "      <td>2.0</td>\n",
       "      <td>0.0</td>\n",
       "      <td>0.0</td>\n",
       "      <td>0.0</td>\n",
       "      <td>0</td>\n",
       "      <td>32.633333</td>\n",
       "      <td>&gt;65yrs</td>\n",
       "      <td>21-30yrs</td>\n",
       "    </tr>\n",
       "  </tbody>\n",
       "</table>\n",
       "<p>17 rows × 25 columns</p>\n",
       "</div>"
      ],
      "text/plain": [
       "       client_id  clnt_tenure_yr  clnt_tenure_mnth  clnt_age gendr  num_accts  \\\n",
       "5562      938393            17.0             208.0      60.0     F        2.0   \n",
       "6660     9468174            14.0             173.0      74.0     F        2.0   \n",
       "9745     5844424            21.0             254.0      82.0     F        2.0   \n",
       "12537    7537182            14.0             178.0      34.0     F        2.0   \n",
       "13894    3826133             5.0              70.0      26.0     U        2.0   \n",
       "16423    2820408             4.0              59.0      33.0     U        2.0   \n",
       "17493     702591            22.0             271.0      47.0     F        2.0   \n",
       "18496    7183287            26.0             323.0      44.0     F        2.0   \n",
       "25276     246922             9.0             119.0      68.0     F        2.0   \n",
       "25468    8912315            23.0             284.0      68.0     F        4.0   \n",
       "30420    5534302             4.0              54.0      66.0     U        2.0   \n",
       "31515    2378055             4.0              59.0      23.0     U        2.0   \n",
       "32793    8927536             4.0              58.0      28.0     M        2.0   \n",
       "34265    3612912            16.0             192.0      35.0     M        2.0   \n",
       "34659    6392043            23.0             287.0      48.0     U        3.0   \n",
       "42369    2154960            18.0             217.0      55.0     U        2.0   \n",
       "43908    4427449            28.0             347.0      67.0     F        2.0   \n",
       "\n",
       "             bal  calls_6_mnth  logons_6_mnth Variation  ... no_of_visits  \\\n",
       "5562    75019.81           1.0            4.0      Test  ...            1   \n",
       "6660    31790.75           3.0            6.0   Control  ...            1   \n",
       "9745    28526.58           0.0            4.0   Control  ...            1   \n",
       "12537   68026.11           0.0            3.0      Test  ...            1   \n",
       "13894   56168.82           3.0            6.0      Test  ...            1   \n",
       "16423   30770.40           0.0            3.0      Test  ...            1   \n",
       "17493   50290.69           2.0            5.0   Control  ...            1   \n",
       "18496   94064.34           0.0            3.0   Control  ...            2   \n",
       "25276   90480.75           3.0            6.0      Test  ...            1   \n",
       "25468  769124.40           6.0            9.0   Control  ...            2   \n",
       "30420   60516.33           6.0            9.0   Control  ...            1   \n",
       "31515   30709.12           1.0            4.0      Test  ...            1   \n",
       "32793   34035.90           0.0            3.0   Control  ...            1   \n",
       "34265   90878.53           6.0            9.0      Test  ...            1   \n",
       "34659  329880.81           6.0            9.0      Test  ...            2   \n",
       "42369  126868.28           3.0            6.0      Test  ...            2   \n",
       "43908  117560.71           0.0            3.0      Test  ...            1   \n",
       "\n",
       "       is_confirmed  no_of_starts  no_of_step_1  no_of_step_2  no_of_step_3  \\\n",
       "5562          False           2.0           0.0           0.0           0.0   \n",
       "6660          False           3.0           0.0           0.0           0.0   \n",
       "9745          False           2.0           0.0           0.0           0.0   \n",
       "12537         False           2.0           0.0           0.0           0.0   \n",
       "13894         False           2.0           0.0           0.0           0.0   \n",
       "16423         False           2.0           0.0           0.0           0.0   \n",
       "17493         False           2.0           0.0           0.0           0.0   \n",
       "18496         False           3.0           0.0           0.0           0.0   \n",
       "25276         False           2.0           0.0           0.0           0.0   \n",
       "25468          True           0.0           0.0           0.0           0.0   \n",
       "30420         False           2.0           0.0           0.0           0.0   \n",
       "31515          True           0.0           0.0           0.0           0.0   \n",
       "32793         False           2.0           0.0           0.0           0.0   \n",
       "34265         False           2.0           0.0           0.0           0.0   \n",
       "34659         False          10.0           0.0           0.0           0.0   \n",
       "42369         False           5.0           0.0           0.0           0.0   \n",
       "43908         False           2.0           0.0           0.0           0.0   \n",
       "\n",
       "       no_of_confirms  step_duration_minutes   age_bin  tenure_yr_bin  \n",
       "5562                0              21.466667  55-65yrs       11-20yrs  \n",
       "6660                0              27.808333    >65yrs       11-20yrs  \n",
       "9745                0              23.683333    >65yrs       21-30yrs  \n",
       "12537               0              27.550000  25-35yrs       11-20yrs  \n",
       "13894               0              44.066667  25-35yrs         3-5yrs  \n",
       "16423               0              23.950000  25-35yrs         3-5yrs  \n",
       "17493               0              30.450000  45-55yrs       21-30yrs  \n",
       "18496               0              32.350000  35-45yrs       21-30yrs  \n",
       "25276               0              41.083333    >65yrs        6-10yrs  \n",
       "25468               0              28.150000    >65yrs       21-30yrs  \n",
       "30420               0              22.216667    >65yrs         3-5yrs  \n",
       "31515               0              24.333333  18-25yrs         3-5yrs  \n",
       "32793               0              21.833333  25-35yrs         3-5yrs  \n",
       "34265               0              25.966667  35-45yrs       11-20yrs  \n",
       "34659               0              65.883333  45-55yrs       21-30yrs  \n",
       "42369               0              22.805556  55-65yrs       11-20yrs  \n",
       "43908               0              32.633333    >65yrs       21-30yrs  \n",
       "\n",
       "[17 rows x 25 columns]"
      ]
     },
     "execution_count": 44,
     "metadata": {},
     "output_type": "execute_result"
    }
   ],
   "source": [
    "df[(df['step_duration_minutes']>20) & (df['had_progress']==0)]"
   ]
  },
  {
   "cell_type": "code",
   "execution_count": 45,
   "id": "f7966260-4551-4ad8-b658-661396cac61c",
   "metadata": {
    "tags": []
   },
   "outputs": [
    {
     "data": {
      "text/html": [
       "<div>\n",
       "<style scoped>\n",
       "    .dataframe tbody tr th:only-of-type {\n",
       "        vertical-align: middle;\n",
       "    }\n",
       "\n",
       "    .dataframe tbody tr th {\n",
       "        vertical-align: top;\n",
       "    }\n",
       "\n",
       "    .dataframe thead th {\n",
       "        text-align: right;\n",
       "    }\n",
       "</style>\n",
       "<table border=\"1\" class=\"dataframe\">\n",
       "  <thead>\n",
       "    <tr style=\"text-align: right;\">\n",
       "      <th></th>\n",
       "      <th>client_id</th>\n",
       "      <th>clnt_tenure_yr</th>\n",
       "      <th>clnt_tenure_mnth</th>\n",
       "      <th>clnt_age</th>\n",
       "      <th>gendr</th>\n",
       "      <th>num_accts</th>\n",
       "      <th>bal</th>\n",
       "      <th>calls_6_mnth</th>\n",
       "      <th>logons_6_mnth</th>\n",
       "      <th>Variation</th>\n",
       "      <th>...</th>\n",
       "      <th>no_of_visits</th>\n",
       "      <th>is_confirmed</th>\n",
       "      <th>no_of_starts</th>\n",
       "      <th>no_of_step_1</th>\n",
       "      <th>no_of_step_2</th>\n",
       "      <th>no_of_step_3</th>\n",
       "      <th>no_of_confirms</th>\n",
       "      <th>step_duration_minutes</th>\n",
       "      <th>age_bin</th>\n",
       "      <th>tenure_yr_bin</th>\n",
       "    </tr>\n",
       "  </thead>\n",
       "  <tbody>\n",
       "    <tr>\n",
       "      <th>6413</th>\n",
       "      <td>9971962</td>\n",
       "      <td>15.0</td>\n",
       "      <td>191.0</td>\n",
       "      <td>47.5</td>\n",
       "      <td>F</td>\n",
       "      <td>2.0</td>\n",
       "      <td>29331.33</td>\n",
       "      <td>1.0</td>\n",
       "      <td>4.0</td>\n",
       "      <td>Test</td>\n",
       "      <td>...</td>\n",
       "      <td>1</td>\n",
       "      <td>True</td>\n",
       "      <td>2.0</td>\n",
       "      <td>2.0</td>\n",
       "      <td>9.0</td>\n",
       "      <td>1.0</td>\n",
       "      <td>1</td>\n",
       "      <td>21.446429</td>\n",
       "      <td>45-55yrs</td>\n",
       "      <td>11-20yrs</td>\n",
       "    </tr>\n",
       "    <tr>\n",
       "      <th>6978</th>\n",
       "      <td>2283351</td>\n",
       "      <td>11.0</td>\n",
       "      <td>143.0</td>\n",
       "      <td>48.5</td>\n",
       "      <td>M</td>\n",
       "      <td>2.0</td>\n",
       "      <td>65203.20</td>\n",
       "      <td>0.0</td>\n",
       "      <td>3.0</td>\n",
       "      <td>Control</td>\n",
       "      <td>...</td>\n",
       "      <td>2</td>\n",
       "      <td>True</td>\n",
       "      <td>5.0</td>\n",
       "      <td>2.0</td>\n",
       "      <td>1.0</td>\n",
       "      <td>1.0</td>\n",
       "      <td>1</td>\n",
       "      <td>20.229167</td>\n",
       "      <td>45-55yrs</td>\n",
       "      <td>11-20yrs</td>\n",
       "    </tr>\n",
       "    <tr>\n",
       "      <th>21136</th>\n",
       "      <td>7353047</td>\n",
       "      <td>14.0</td>\n",
       "      <td>169.0</td>\n",
       "      <td>71.0</td>\n",
       "      <td>M</td>\n",
       "      <td>2.0</td>\n",
       "      <td>352862.33</td>\n",
       "      <td>0.0</td>\n",
       "      <td>3.0</td>\n",
       "      <td>Control</td>\n",
       "      <td>...</td>\n",
       "      <td>1</td>\n",
       "      <td>False</td>\n",
       "      <td>2.0</td>\n",
       "      <td>1.0</td>\n",
       "      <td>0.0</td>\n",
       "      <td>0.0</td>\n",
       "      <td>0</td>\n",
       "      <td>29.658333</td>\n",
       "      <td>&gt;65yrs</td>\n",
       "      <td>11-20yrs</td>\n",
       "    </tr>\n",
       "    <tr>\n",
       "      <th>22550</th>\n",
       "      <td>2148617</td>\n",
       "      <td>19.0</td>\n",
       "      <td>232.0</td>\n",
       "      <td>69.0</td>\n",
       "      <td>M</td>\n",
       "      <td>2.0</td>\n",
       "      <td>210572.67</td>\n",
       "      <td>6.0</td>\n",
       "      <td>9.0</td>\n",
       "      <td>Control</td>\n",
       "      <td>...</td>\n",
       "      <td>3</td>\n",
       "      <td>False</td>\n",
       "      <td>5.0</td>\n",
       "      <td>1.0</td>\n",
       "      <td>1.0</td>\n",
       "      <td>0.0</td>\n",
       "      <td>0</td>\n",
       "      <td>21.670833</td>\n",
       "      <td>&gt;65yrs</td>\n",
       "      <td>11-20yrs</td>\n",
       "    </tr>\n",
       "    <tr>\n",
       "      <th>22609</th>\n",
       "      <td>4647786</td>\n",
       "      <td>11.0</td>\n",
       "      <td>142.0</td>\n",
       "      <td>29.5</td>\n",
       "      <td>F</td>\n",
       "      <td>3.0</td>\n",
       "      <td>50662.24</td>\n",
       "      <td>1.0</td>\n",
       "      <td>4.0</td>\n",
       "      <td>Test</td>\n",
       "      <td>...</td>\n",
       "      <td>1</td>\n",
       "      <td>True</td>\n",
       "      <td>2.0</td>\n",
       "      <td>2.0</td>\n",
       "      <td>1.0</td>\n",
       "      <td>1.0</td>\n",
       "      <td>4</td>\n",
       "      <td>31.298148</td>\n",
       "      <td>25-35yrs</td>\n",
       "      <td>11-20yrs</td>\n",
       "    </tr>\n",
       "    <tr>\n",
       "      <th>29565</th>\n",
       "      <td>2882702</td>\n",
       "      <td>20.0</td>\n",
       "      <td>250.0</td>\n",
       "      <td>44.0</td>\n",
       "      <td>F</td>\n",
       "      <td>2.0</td>\n",
       "      <td>35326.46</td>\n",
       "      <td>0.0</td>\n",
       "      <td>3.0</td>\n",
       "      <td>Control</td>\n",
       "      <td>...</td>\n",
       "      <td>1</td>\n",
       "      <td>True</td>\n",
       "      <td>1.0</td>\n",
       "      <td>1.0</td>\n",
       "      <td>1.0</td>\n",
       "      <td>1.0</td>\n",
       "      <td>2</td>\n",
       "      <td>31.900000</td>\n",
       "      <td>35-45yrs</td>\n",
       "      <td>11-20yrs</td>\n",
       "    </tr>\n",
       "    <tr>\n",
       "      <th>29661</th>\n",
       "      <td>3257276</td>\n",
       "      <td>12.0</td>\n",
       "      <td>145.0</td>\n",
       "      <td>70.0</td>\n",
       "      <td>U</td>\n",
       "      <td>3.0</td>\n",
       "      <td>428105.13</td>\n",
       "      <td>1.0</td>\n",
       "      <td>4.0</td>\n",
       "      <td>Control</td>\n",
       "      <td>...</td>\n",
       "      <td>1</td>\n",
       "      <td>False</td>\n",
       "      <td>2.0</td>\n",
       "      <td>2.0</td>\n",
       "      <td>0.0</td>\n",
       "      <td>0.0</td>\n",
       "      <td>0</td>\n",
       "      <td>22.083333</td>\n",
       "      <td>&gt;65yrs</td>\n",
       "      <td>11-20yrs</td>\n",
       "    </tr>\n",
       "    <tr>\n",
       "      <th>30188</th>\n",
       "      <td>9553121</td>\n",
       "      <td>7.0</td>\n",
       "      <td>94.0</td>\n",
       "      <td>42.0</td>\n",
       "      <td>U</td>\n",
       "      <td>2.0</td>\n",
       "      <td>61018.52</td>\n",
       "      <td>5.0</td>\n",
       "      <td>9.0</td>\n",
       "      <td>Control</td>\n",
       "      <td>...</td>\n",
       "      <td>1</td>\n",
       "      <td>False</td>\n",
       "      <td>4.0</td>\n",
       "      <td>2.0</td>\n",
       "      <td>1.0</td>\n",
       "      <td>0.0</td>\n",
       "      <td>0</td>\n",
       "      <td>63.597222</td>\n",
       "      <td>35-45yrs</td>\n",
       "      <td>6-10yrs</td>\n",
       "    </tr>\n",
       "    <tr>\n",
       "      <th>30523</th>\n",
       "      <td>2182225</td>\n",
       "      <td>5.0</td>\n",
       "      <td>66.0</td>\n",
       "      <td>48.5</td>\n",
       "      <td>U</td>\n",
       "      <td>2.0</td>\n",
       "      <td>326330.14</td>\n",
       "      <td>1.0</td>\n",
       "      <td>4.0</td>\n",
       "      <td>Control</td>\n",
       "      <td>...</td>\n",
       "      <td>2</td>\n",
       "      <td>True</td>\n",
       "      <td>8.0</td>\n",
       "      <td>2.0</td>\n",
       "      <td>3.0</td>\n",
       "      <td>2.0</td>\n",
       "      <td>1</td>\n",
       "      <td>50.117857</td>\n",
       "      <td>45-55yrs</td>\n",
       "      <td>3-5yrs</td>\n",
       "    </tr>\n",
       "    <tr>\n",
       "      <th>32334</th>\n",
       "      <td>3534206</td>\n",
       "      <td>4.0</td>\n",
       "      <td>59.0</td>\n",
       "      <td>32.0</td>\n",
       "      <td>U</td>\n",
       "      <td>3.0</td>\n",
       "      <td>51768.22</td>\n",
       "      <td>6.0</td>\n",
       "      <td>9.0</td>\n",
       "      <td>Test</td>\n",
       "      <td>...</td>\n",
       "      <td>2</td>\n",
       "      <td>False</td>\n",
       "      <td>3.0</td>\n",
       "      <td>1.0</td>\n",
       "      <td>1.0</td>\n",
       "      <td>0.0</td>\n",
       "      <td>0</td>\n",
       "      <td>20.411111</td>\n",
       "      <td>25-35yrs</td>\n",
       "      <td>3-5yrs</td>\n",
       "    </tr>\n",
       "    <tr>\n",
       "      <th>47263</th>\n",
       "      <td>6420672</td>\n",
       "      <td>8.0</td>\n",
       "      <td>104.0</td>\n",
       "      <td>58.0</td>\n",
       "      <td>F</td>\n",
       "      <td>2.0</td>\n",
       "      <td>238528.63</td>\n",
       "      <td>3.0</td>\n",
       "      <td>6.0</td>\n",
       "      <td>Control</td>\n",
       "      <td>...</td>\n",
       "      <td>2</td>\n",
       "      <td>True</td>\n",
       "      <td>3.0</td>\n",
       "      <td>1.0</td>\n",
       "      <td>1.0</td>\n",
       "      <td>1.0</td>\n",
       "      <td>1</td>\n",
       "      <td>37.836667</td>\n",
       "      <td>55-65yrs</td>\n",
       "      <td>6-10yrs</td>\n",
       "    </tr>\n",
       "  </tbody>\n",
       "</table>\n",
       "<p>11 rows × 25 columns</p>\n",
       "</div>"
      ],
      "text/plain": [
       "       client_id  clnt_tenure_yr  clnt_tenure_mnth  clnt_age gendr  num_accts  \\\n",
       "6413     9971962            15.0             191.0      47.5     F        2.0   \n",
       "6978     2283351            11.0             143.0      48.5     M        2.0   \n",
       "21136    7353047            14.0             169.0      71.0     M        2.0   \n",
       "22550    2148617            19.0             232.0      69.0     M        2.0   \n",
       "22609    4647786            11.0             142.0      29.5     F        3.0   \n",
       "29565    2882702            20.0             250.0      44.0     F        2.0   \n",
       "29661    3257276            12.0             145.0      70.0     U        3.0   \n",
       "30188    9553121             7.0              94.0      42.0     U        2.0   \n",
       "30523    2182225             5.0              66.0      48.5     U        2.0   \n",
       "32334    3534206             4.0              59.0      32.0     U        3.0   \n",
       "47263    6420672             8.0             104.0      58.0     F        2.0   \n",
       "\n",
       "             bal  calls_6_mnth  logons_6_mnth Variation  ... no_of_visits  \\\n",
       "6413    29331.33           1.0            4.0      Test  ...            1   \n",
       "6978    65203.20           0.0            3.0   Control  ...            2   \n",
       "21136  352862.33           0.0            3.0   Control  ...            1   \n",
       "22550  210572.67           6.0            9.0   Control  ...            3   \n",
       "22609   50662.24           1.0            4.0      Test  ...            1   \n",
       "29565   35326.46           0.0            3.0   Control  ...            1   \n",
       "29661  428105.13           1.0            4.0   Control  ...            1   \n",
       "30188   61018.52           5.0            9.0   Control  ...            1   \n",
       "30523  326330.14           1.0            4.0   Control  ...            2   \n",
       "32334   51768.22           6.0            9.0      Test  ...            2   \n",
       "47263  238528.63           3.0            6.0   Control  ...            2   \n",
       "\n",
       "       is_confirmed  no_of_starts  no_of_step_1  no_of_step_2  no_of_step_3  \\\n",
       "6413           True           2.0           2.0           9.0           1.0   \n",
       "6978           True           5.0           2.0           1.0           1.0   \n",
       "21136         False           2.0           1.0           0.0           0.0   \n",
       "22550         False           5.0           1.0           1.0           0.0   \n",
       "22609          True           2.0           2.0           1.0           1.0   \n",
       "29565          True           1.0           1.0           1.0           1.0   \n",
       "29661         False           2.0           2.0           0.0           0.0   \n",
       "30188         False           4.0           2.0           1.0           0.0   \n",
       "30523          True           8.0           2.0           3.0           2.0   \n",
       "32334         False           3.0           1.0           1.0           0.0   \n",
       "47263          True           3.0           1.0           1.0           1.0   \n",
       "\n",
       "       no_of_confirms  step_duration_minutes   age_bin  tenure_yr_bin  \n",
       "6413                1              21.446429  45-55yrs       11-20yrs  \n",
       "6978                1              20.229167  45-55yrs       11-20yrs  \n",
       "21136               0              29.658333    >65yrs       11-20yrs  \n",
       "22550               0              21.670833    >65yrs       11-20yrs  \n",
       "22609               4              31.298148  25-35yrs       11-20yrs  \n",
       "29565               2              31.900000  35-45yrs       11-20yrs  \n",
       "29661               0              22.083333    >65yrs       11-20yrs  \n",
       "30188               0              63.597222  35-45yrs        6-10yrs  \n",
       "30523               1              50.117857  45-55yrs         3-5yrs  \n",
       "32334               0              20.411111  25-35yrs         3-5yrs  \n",
       "47263               1              37.836667  55-65yrs        6-10yrs  \n",
       "\n",
       "[11 rows x 25 columns]"
      ]
     },
     "execution_count": 45,
     "metadata": {},
     "output_type": "execute_result"
    }
   ],
   "source": [
    "df[(df['step_duration_minutes']>20) & (df['had_progress']>0)]"
   ]
  },
  {
   "cell_type": "code",
   "execution_count": 46,
   "id": "09d38d33-e6d2-4cea-8d29-438659590b03",
   "metadata": {
    "tags": []
   },
   "outputs": [],
   "source": [
    "#df[df['step_duration_minutes']==0]['no_of_starts'].value_counts()"
   ]
  },
  {
   "cell_type": "code",
   "execution_count": 47,
   "id": "7a3bc4a4-2608-4208-8e16-232a1be1fb55",
   "metadata": {
    "tags": []
   },
   "outputs": [],
   "source": [
    "#df[df['step_duration_minutes']==0]['no_of_step_1'].value_counts()"
   ]
  },
  {
   "cell_type": "code",
   "execution_count": 48,
   "id": "2324eb4c-e289-44ae-9260-2fcb075c29e8",
   "metadata": {
    "tags": []
   },
   "outputs": [],
   "source": [
    "#df[df['step_duration_minutes']==0]['no_of_step_2'].value_counts()"
   ]
  },
  {
   "cell_type": "code",
   "execution_count": 49,
   "id": "ea3ae9cc-ca11-431e-b823-c75fa3cd9116",
   "metadata": {
    "tags": []
   },
   "outputs": [],
   "source": [
    "#df[df['step_duration_minutes']==0]['no_of_step_3'].value_counts()"
   ]
  },
  {
   "cell_type": "code",
   "execution_count": 50,
   "id": "3365c7a6-8d3d-43df-ac4a-47f23e5f9062",
   "metadata": {
    "tags": []
   },
   "outputs": [],
   "source": [
    "#df[df['step_duration_minutes']==0]['no_of_confirms'].value_counts()"
   ]
  },
  {
   "cell_type": "code",
   "execution_count": 51,
   "id": "365414b9-870f-451d-bc07-24ec57f04723",
   "metadata": {
    "tags": []
   },
   "outputs": [
    {
     "data": {
      "text/plain": [
       "<Axes: xlabel='step_duration_minutes', ylabel='Count'>"
      ]
     },
     "execution_count": 51,
     "metadata": {},
     "output_type": "execute_result"
    },
    {
     "data": {
      "image/png": "[encoded data removed]",
      "text/plain": [
       "<Figure size 640x480 with 1 Axes>"
      ]
     },
     "metadata": {},
     "output_type": "display_data"
    }
   ],
   "source": [
    "#sns.histplot(data=df[['Variation','step_duration']], x='step_duration', bins=5, alpha=0.6)\n",
    "\n",
    "sns.histplot(x=df['step_duration_minutes'], alpha=0.6)  \n",
    "\n",
    "#sns.histplot(x=df['step_duration'].astype('timedelta64[s]'), alpha=0.6)  \n",
    "# #plt.xlim(-1,10)"
   ]
  },
  {
   "cell_type": "code",
   "execution_count": 52,
   "id": "7f698023-b2bc-470f-b037-56add0c30268",
   "metadata": {
    "tags": []
   },
   "outputs": [
    {
     "data": {
      "text/plain": [
       "<Axes: xlabel='Variation', ylabel='step_duration_minutes'>"
      ]
     },
     "execution_count": 52,
     "metadata": {},
     "output_type": "execute_result"
    },
    {
     "data": {
      "image/png": "[encoded data removed]",
      "text/plain": [
       "<Figure size 640x480 with 1 Axes>"
      ]
     },
     "metadata": {},
     "output_type": "display_data"
    }
   ],
   "source": [
    "sns.boxplot(data = df, x='Variation', y='step_duration_minutes')"
   ]
  },
  {
   "cell_type": "code",
   "execution_count": 53,
   "id": "a4df1653-e10e-440d-8423-84c544638c5e",
   "metadata": {
    "tags": []
   },
   "outputs": [
    {
     "data": {
      "text/plain": [
       "<Axes: xlabel='age_bin', ylabel='step_duration_minutes'>"
      ]
     },
     "execution_count": 53,
     "metadata": {},
     "output_type": "execute_result"
    },
    {
     "data": {
      "image/png": "[encoded data removed]",
      "text/plain": [
       "<Figure size 640x480 with 1 Axes>"
      ]
     },
     "metadata": {},
     "output_type": "display_data"
    }
   ],
   "source": [
    "sns.barplot(x=df['age_bin'], y=df['step_duration_minutes'])  "
   ]
  },
  {
   "cell_type": "code",
   "execution_count": 54,
   "id": "a7722f78-e5da-4d28-b12e-603d5456f1a6",
   "metadata": {
    "tags": []
   },
   "outputs": [
    {
     "data": {
      "text/plain": [
       "count    50485.000000\n",
       "mean         1.202012\n",
       "std          1.538467\n",
       "min          0.000000\n",
       "25%          0.494444\n",
       "50%          0.833333\n",
       "75%          1.419444\n",
       "max         65.883333\n",
       "Name: step_duration_minutes, dtype: float64"
      ]
     },
     "execution_count": 54,
     "metadata": {},
     "output_type": "execute_result"
    }
   ],
   "source": [
    "df['step_duration_minutes'].describe()"
   ]
  },
  {
   "cell_type": "code",
   "execution_count": 56,
   "id": "54009869-2a87-4bd2-b2ba-4a0d9b698ae0",
   "metadata": {
    "tags": []
   },
   "outputs": [
    {
     "data": {
      "text/plain": [
       "age_bin\n",
       "55-65yrs    3543\n",
       "45-55yrs    2726\n",
       ">65yrs      2543\n",
       "35-45yrs    1667\n",
       "25-35yrs    1611\n",
       "18-25yrs     529\n",
       "<18yrs        10\n",
       "Name: count, dtype: int64"
      ]
     },
     "execution_count": 56,
     "metadata": {},
     "output_type": "execute_result"
    }
   ],
   "source": [
    "df[df['avg_step_duration'] > '0 days 00:01:25.100000000']['age_bin'].value_counts()"
   ]
  },
  {
   "cell_type": "code",
   "execution_count": 57,
   "id": "30a5e478-dc11-4475-ab0e-da459e6bfd6a",
   "metadata": {
    "tags": []
   },
   "outputs": [
    {
     "data": {
      "text/plain": [
       "age_bin\n",
       "55-65yrs    5411\n",
       "45-55yrs    4434\n",
       ">65yrs      3796\n",
       "25-35yrs    2953\n",
       "35-45yrs    2918\n",
       "18-25yrs     917\n",
       "<18yrs        19\n",
       "Name: count, dtype: int64"
      ]
     },
     "execution_count": 57,
     "metadata": {},
     "output_type": "execute_result"
    }
   ],
   "source": [
    "df[df['step_duration_minutes'] > 1]['age_bin'].value_counts()"
   ]
  },
  {
   "cell_type": "markdown",
   "id": "d5f11016-64df-475e-b284-9693a6f71eb5",
   "metadata": {},
   "source": [
    "## Hypothesis Testing : is new interface better ?\n"
   ]
  },
  {
   "cell_type": "code",
   "execution_count": 306,
   "id": "3c1d19f1-e0e8-4410-8c3b-f59784f97ab8",
   "metadata": {},
   "outputs": [
    {
     "name": "stdout",
     "output_type": "stream",
     "text": [
      "Control and Test Means 0.6557850888378814 0.6929782261953337\n",
      "\n",
      "## Is the difference in the confirmation rates statistically significant? ##\n",
      "P-Value for proportial z-test between control and test group:  5.334173702774177e-19\n",
      "- We reject the null hypothesis (confirmation rates are the same)\n",
      "- and have high confidence the difference in completion rates between the groups are significantly different\n",
      "\n",
      "## Are we confident the test group has a completion rate 5% better than the control? ##\n",
      "P-Value for greater proportial z-test vs control mean * 1.05:  0.05848387780816889\n",
      "- We can not reject the null hypothesis (test confirmation rate is 5% higher)\n",
      "- not confident we will see a 5% lift should we implement the changes\n"
     ]
    }
   ],
   "source": [
    "from statsmodels.stats.proportion import proportions_ztest\n",
    "\n",
    "# df = client_stats_ab\n",
    "confirmed_c = df[df['Variation'] == 'Control']['is_confirmed'].sum()\n",
    "confirmed_t = df[df['Variation'] == 'Test']['is_confirmed'].sum()\n",
    "nobs_c = df[df['Variation'] == 'Control']['is_confirmed'].count()\n",
    "nobs_t = df[df['Variation'] == 'Test']['is_confirmed'].count()\n",
    "\n",
    "\n",
    "print('Control and Test Means', df[df['Variation'] == 'Control']['is_confirmed'].mean(), df[df['Variation'] == 'Test']['is_confirmed'].mean())\n",
    "print()\n",
    "\n",
    "# our our control and test group proportions statistically significally different\n",
    "print('## Is the difference in the confirmation rates statistically significant? ##')\n",
    "\n",
    "result = proportions_ztest([confirmed_c, confirmed_t], [nobs_c, nobs_t], alternative='two-sided')\n",
    "\n",
    "print('P-Value for proportial z-test between control and test group: ', result[1])\n",
    "print('- We reject the null hypothesis (confirmation rates are the same)')\n",
    "print('- and have high confidence the difference in completion rates between the groups are significantly different')\n",
    "print()\n",
    "\n",
    "p_hat = df[df['Variation'] == 'Test']['is_confirmed'].mean()\n",
    "p_0 = df[df['Variation'] == 'Control']['is_confirmed'].mean() * 1.05\n",
    "p_0b = df[df['Variation'] == 'Control']['is_confirmed'].mean() \n",
    "\n",
    "print('## Are we confident the test group has a completion rate 5% better than the control? ##')\n",
    "\n",
    "result = proportions_ztest(confirmed_t, nobs_t, value=p_0, alternative='larger')\n",
    "\n",
    "print('P-Value for greater proportial z-test vs control mean * 1.05: ', result[1])\n",
    "print('- We can not reject the null hypothesis (test confirmation rate is 5% higher)')\n",
    "print('- not confident we will see a 5% lift should we implement the changes')"
   ]
  },
  {
   "cell_type": "code",
   "execution_count": 307,
   "id": "cda17676-078f-464a-9154-decdbb8f2368",
   "metadata": {
    "tags": []
   },
   "outputs": [
    {
     "data": {
      "text/plain": [
       "(1.5675998590576463, 0.11698628211235765, 0.058493141056178824)"
      ]
     },
     "execution_count": 307,
     "metadata": {},
     "output_type": "execute_result"
    }
   ],
   "source": [
    "from scipy.stats import ttest_1samp, binomtest\n",
    "x = df[df['Variation'] == 'Test']['is_confirmed'].map({True:1, False:0})\n",
    "st, p = ttest_1samp(x, p_0)\n",
    "st, p, p/2"
   ]
  },
  {
   "cell_type": "code",
   "execution_count": null,
   "id": "e9e4d60e-a7d3-472a-af6f-b6be0de6c336",
   "metadata": {},
   "outputs": [],
   "source": []
  }
 ],
 "metadata": {
  "kernelspec": {
   "display_name": "Python 3 (ipykernel)",
   "language": "python",
   "name": "python3"
  },
  "language_info": {
   "codemirror_mode": {
    "name": "ipython",
    "version": 3
   },
   "file_extension": ".py",
   "mimetype": "text/x-python",
   "name": "python",
   "nbconvert_exporter": "python",
   "pygments_lexer": "ipython3",
   "version": "3.11.5"
  }
 },
 "nbformat": 4,
 "nbformat_minor": 5
}
